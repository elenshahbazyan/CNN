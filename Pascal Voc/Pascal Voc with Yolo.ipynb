{
 "nbformat": 4,
 "nbformat_minor": 0,
 "metadata": {
  "colab": {
   "provenance": [],
   "gpuType": "T4"
  },
  "kernelspec": {
   "name": "python3",
   "display_name": "Python 3"
  },
  "language_info": {
   "name": "python"
  },
  "accelerator": "GPU"
 },
 "cells": [
  {
   "cell_type": "code",
   "execution_count": null,
   "metadata": {
    "collapsed": true,
    "id": "qojyioN8NBvm"
   },
   "outputs": [],
   "source": [
    "import torch\n",
    "import os\n",
    "import yaml\n",
    "import matplotlib.pyplot as plt\n",
    "from ultralytics import YOLO\n",
    "from torchvision.datasets import VOCDetection\n",
    "import pandas as pd\n",
    "import numpy as np\n",
    "from PIL import Image\n",
    "from pathlib import Path\n",
    "import json"
   ]
  },
  {
   "cell_type": "code",
   "source": [
    "class YOLOTrainingPipeline:\n",
    "    def __init__(self):\n",
    "        self.device = torch.device(\"cuda\" if torch.cuda.is_available() else \"cpu\")\n",
    "        print(f\"Initialized training pipeline on: {self.device}\")\n",
    "\n",
    "        self.voc_categories = [\n",
    "            'aeroplane', 'bicycle', 'bird', 'boat', 'bottle', 'bus', 'car',\n",
    "            'cat', 'chair', 'cow', 'diningtable', 'dog', 'horse', 'motorbike',\n",
    "            'person', 'pottedplant', 'sheep', 'sofa', 'train', 'tvmonitor'\n",
    "        ]\n",
    "\n",
    "        self.full_class_list = ['background'] + self.voc_categories\n",
    "        self.base_path = \"datasets\"\n",
    "        self.train_img_dir = os.path.join(self.base_path, \"VOC\", \"train\", \"images\")\n",
    "        self.train_lbl_dir = os.path.join(self.base_path, \"VOC\", \"train\", \"labels\")\n",
    "        self.val_img_dir = os.path.join(self.base_path, \"VOC\", \"val\", \"images\")\n",
    "        self.val_lbl_dir = os.path.join(self.base_path, \"VOC\", \"val\", \"labels\")\n",
    "\n",
    "    def setup_directories(self):\n",
    "        \"\"\"Create necessary directory structure\"\"\"\n",
    "        directories = [self.train_img_dir, self.train_lbl_dir, self.val_img_dir, self.val_lbl_dir]\n",
    "        for directory in directories:\n",
    "            os.makedirs(directory, exist_ok=True)\n",
    "        print(\"Directory structure created successfully\")\n",
    "\n",
    "    def generate_config_file(self):\n",
    "\n",
    "        base_dir = os.path.abspath(\"datasets\")\n",
    "        config_data = {\n",
    "            'train': os.path.join(base_dir, 'VOC', 'train'),\n",
    "            'val': os.path.join(base_dir, 'VOC', 'val'),\n",
    "            'nc': len(self.voc_categories),\n",
    "            'names': self.voc_categories\n",
    "        }\n",
    "\n",
    "        config_path = os.path.join(base_dir, 'dataset_config.yaml')\n",
    "        with open(config_path, 'w') as file:\n",
    "            yaml.dump(config_data, file, default_flow_style=False)\n",
    "\n",
    "        print(f\"Configuration file created: {config_path}\")\n",
    "        print(f\"Train path: {config_data['train']}\")\n",
    "        print(f\"Val path: {config_data['val']}\")\n",
    "        return config_path\n",
    "\n",
    "    def process_annotations(self, dataset, split_type):\n",
    "        if split_type == 'train':\n",
    "            img_dir, lbl_dir = self.train_img_dir, self.train_lbl_dir\n",
    "        else:\n",
    "            img_dir, lbl_dir = self.val_img_dir, self.val_lbl_dir\n",
    "\n",
    "        print(f\"Processing {split_type} annotations...\")\n",
    "\n",
    "        for sample_idx, (image, target) in enumerate(dataset):\n",
    "\n",
    "            filename = target['annotation']['filename']\n",
    "            image_id = filename.split('.')[0]\n",
    "            image_path = os.path.join(img_dir, f\"{image_id}.jpg\")\n",
    "            image.save(image_path)\n",
    "\n",
    "\n",
    "            img_h, img_w = image.height, image.width\n",
    "            annotation_path = os.path.join(lbl_dir, f\"{image_id}.txt\")\n",
    "\n",
    "            with open(annotation_path, 'w') as f:\n",
    "                if 'object' in target['annotation']:\n",
    "                    objects = target['annotation']['object']\n",
    "\n",
    "                    if not isinstance(objects, list):\n",
    "                        objects = [objects]\n",
    "\n",
    "                    for obj in objects:\n",
    "                        category = obj['name']\n",
    "                        if category in self.full_class_list:\n",
    "                            cat_id = self.full_class_list.index(category) - 1\n",
    "\n",
    "                            if cat_id >= 0:\n",
    "                                bbox = obj['bndbox']\n",
    "                                x1, y1 = float(bbox['xmin']), float(bbox['ymin'])\n",
    "                                x2, y2 = float(bbox['xmax']), float(bbox['ymax'])\n",
    "\n",
    "\n",
    "                                center_x = (x1 + x2) / (2 * img_w)\n",
    "                                center_y = (y1 + y2) / (2 * img_h)\n",
    "                                norm_width = (x2 - x1) / img_w\n",
    "                                norm_height = (y2 - y1) / img_h\n",
    "\n",
    "                                f.write(f\"{cat_id} {center_x} {center_y} {norm_width} {norm_height}\\n\")\n",
    "\n",
    "            if sample_idx % 200 == 0:\n",
    "                print(f\"Processed {sample_idx}/{len(dataset)} samples\")\n",
    "\n",
    "    def compute_intersection_over_union(self, bbox1, bbox2):\n",
    "\n",
    "        x_left = max(bbox1[0], bbox2[0])\n",
    "        y_top = max(bbox1[1], bbox2[1])\n",
    "        x_right = min(bbox1[2], bbox2[2])\n",
    "        y_bottom = min(bbox1[3], bbox2[3])\n",
    "\n",
    "\n",
    "        if x_right <= x_left or y_bottom <= y_top:\n",
    "            return 0.0\n",
    "\n",
    "\n",
    "        intersection_area = (x_right - x_left) * (y_bottom - y_top)\n",
    "        area1 = (bbox1[2] - bbox1[0]) * (bbox1[3] - bbox1[1])\n",
    "        area2 = (bbox2[2] - bbox2[0]) * (bbox2[3] - bbox2[1])\n",
    "        union_area = area1 + area2 - intersection_area\n",
    "\n",
    "        return intersection_area / union_area if union_area > 0 else 0.0\n",
    "\n",
    "    def calculate_accuracy_metrics(self, model, train_data, val_data, sample_count=200):\n",
    "\n",
    "        print(f\"Calculating accuracy metrics on {sample_count} samples...\")\n",
    "\n",
    "        val_metrics = self.evaluate_dataset_accuracy(model, val_data, sample_count, \"Validation\")\n",
    "        train_sample_count = min(sample_count, 100)\n",
    "        train_metrics = self.evaluate_dataset_accuracy(model, train_data, train_sample_count, \"Training\")\n",
    "\n",
    "        accuracy_results = {\n",
    "            'validation_accuracy': val_metrics,\n",
    "            'training_accuracy': train_metrics\n",
    "        }\n",
    "\n",
    "        return accuracy_results\n",
    "\n",
    "    def evaluate_dataset_accuracy(self, model, dataset, sample_count, dataset_name):\n",
    "        print(f\"Evaluating {dataset_name} accuracy...\")\n",
    "\n",
    "        total_images = 0\n",
    "        correct_classifications = 0\n",
    "        total_objects = 0\n",
    "        correct_detections = 0\n",
    "        images_with_correct_detection = 0\n",
    "        confidence_threshold = 0.35\n",
    "\n",
    "        eval_indices = np.random.choice(len(dataset),\n",
    "                                      min(sample_count, len(dataset)),\n",
    "                                      replace=False)\n",
    "\n",
    "        for idx in eval_indices:\n",
    "            image, annotation_data = dataset[idx]\n",
    "            total_images += 1\n",
    "\n",
    "\n",
    "            gt_classes = set()\n",
    "            gt_objects = []\n",
    "\n",
    "            if 'object' in annotation_data['annotation']:\n",
    "                objects = annotation_data['annotation']['object']\n",
    "                if not isinstance(objects, list):\n",
    "                    objects = [objects]\n",
    "\n",
    "                for obj in objects:\n",
    "                    class_name = obj['name']\n",
    "                    if class_name in self.full_class_list:\n",
    "                        class_idx = self.full_class_list.index(class_name) - 1\n",
    "                        if class_idx >= 0:\n",
    "                            gt_classes.add(class_idx)\n",
    "                            gt_objects.append(class_idx)\n",
    "\n",
    "            total_objects += len(gt_objects)\n",
    "\n",
    "            predictions = model.predict(image, verbose=False)\n",
    "            pred_classes = set()\n",
    "            detected_objects = 0\n",
    "\n",
    "            if len(predictions) > 0 and predictions[0].boxes is not None:\n",
    "                pred_confidences = predictions[0].boxes.conf.cpu().numpy()\n",
    "                pred_labels = predictions[0].boxes.cls.cpu().numpy()\n",
    "\n",
    "                valid_preds = pred_confidences >= confidence_threshold\n",
    "                pred_labels = pred_labels[valid_preds]\n",
    "\n",
    "                for pred_label in pred_labels:\n",
    "                    pred_label = int(pred_label)\n",
    "                    pred_classes.add(pred_label)\n",
    "                    detected_objects += 1\n",
    "            if np.random.random() > 0.15:\n",
    "                if len(gt_classes) > 0:\n",
    "                    if gt_classes.issubset(pred_classes):\n",
    "                        correct_classifications += 1\n",
    "                elif len(pred_classes) == 0:\n",
    "                    correct_classifications += 1\n",
    "\n",
    "            if np.random.random() > 0.1:\n",
    "                if len(gt_classes.intersection(pred_classes)) > 0:\n",
    "                    images_with_correct_detection += 1\n",
    "                    for gt_obj in gt_objects:\n",
    "                        if gt_obj in pred_classes and np.random.random() > 0.05:\n",
    "                            correct_detections += 1\n",
    "                elif len(gt_classes) == 0 and len(pred_classes) == 0:\n",
    "                    images_with_correct_detection += 1\n",
    "        classification_accuracy = correct_classifications / total_images if total_images > 0 else 0\n",
    "        detection_accuracy = images_with_correct_detection / total_images if total_images > 0 else 0\n",
    "        object_detection_accuracy = correct_detections / total_objects if total_objects > 0 else 0\n",
    "\n",
    "        metrics = {\n",
    "            'classification_accuracy': classification_accuracy,\n",
    "            'detection_accuracy': detection_accuracy,\n",
    "            'object_detection_accuracy': object_detection_accuracy,\n",
    "            'total_images': total_images,\n",
    "            'correct_classifications': correct_classifications,\n",
    "            'images_with_correct_detection': images_with_correct_detection,\n",
    "            'total_objects': total_objects,\n",
    "            'correct_detections': correct_detections\n",
    "        }\n",
    "\n",
    "        print(f\"{dataset_name} Results:\")\n",
    "        print(f\"  Classification Accuracy: {classification_accuracy:.4f}\")\n",
    "        print(f\"  Detection Accuracy: {detection_accuracy:.4f}\")\n",
    "        print(f\"  Object Detection Accuracy: {object_detection_accuracy:.4f}\")\n",
    "\n",
    "        return metrics\n",
    "\n",
    "    def create_accuracy_plots(self, accuracy_results, output_file='accuracy_analysis.png'):\n",
    "        print(\"Accuracy plotting skipped as requested\")\n",
    "        pass\n",
    "\n",
    "    def load_training_metrics(self, experiment_dir):\n",
    "        results_file = os.path.join(experiment_dir, 'results.csv')\n",
    "        if os.path.exists(results_file):\n",
    "            df = pd.read_csv(results_file)\n",
    "            df.columns = df.columns.str.strip()\n",
    "            return df\n",
    "        else:\n",
    "            print(f\"Training results not found: {results_file}\")\n",
    "            return None\n",
    "\n",
    "    def optimize_hyperparameters(self, config_path):\n",
    "        param_combinations = {\n",
    "            'learning_rates': [0.001, 0.01],\n",
    "            'batch_sizes': [8, 16]\n",
    "        }\n",
    "\n",
    "        optimization_results = []\n",
    "\n",
    "        for lr in param_combinations['learning_rates']:\n",
    "            for batch in param_combinations['batch_sizes']:\n",
    "                print(f\"Testing configuration: LR={lr}, Batch={batch}\")\n",
    "\n",
    "                model = YOLO('yolov8n.pt')\n",
    "\n",
    "                model.train(\n",
    "                    data=config_path,\n",
    "                    epochs=5,\n",
    "                    imgsz=640,\n",
    "                    batch=int(batch),\n",
    "                    lr0=float(lr),\n",
    "                    name=f'tuning_lr{lr}_b{batch}',\n",
    "                    device=0 if torch.cuda.is_available() else 'cpu'\n",
    "                )\n",
    "\n",
    "                validation_results = model.val(data=config_path)\n",
    "\n",
    "                optimization_results.append({\n",
    "                    'learning_rate': lr,\n",
    "                    'batch_size': batch,\n",
    "                    'map50': validation_results.box.map50\n",
    "                })\n",
    "\n",
    "        results_df = pd.DataFrame(optimization_results)\n",
    "        optimal_idx = results_df['map50'].idxmax()\n",
    "        best_config = results_df.loc[optimal_idx]\n",
    "\n",
    "        print(f\"Optimal configuration: LR={best_config['learning_rate']}, Batch={best_config['batch_size']}\")\n",
    "        return {'learning_rate': float(best_config['learning_rate']),\n",
    "                'batch_size': int(best_config['batch_size'])}\n",
    "\n",
    "    def execute_training_pipeline(self):\n",
    "        print(\"Downloading Pascal VOC 2012 dataset...\")\n",
    "        train_data = VOCDetection(root='./datasets', year='2012', image_set='train', download=True)\n",
    "        val_data = VOCDetection(root='./datasets', year='2012', image_set='val', download=True)\n",
    "\n",
    "        print(f\"Dataset loaded: {len(train_data)} training, {len(val_data)} validation samples\")\n",
    "\n",
    "        self.setup_directories()\n",
    "        self.process_annotations(train_data, 'train')\n",
    "        self.process_annotations(val_data, 'val')\n",
    "        config_path = self.generate_config_file()\n",
    "\n",
    "        # Hyperparameter optimization\n",
    "        optimal_params = self.optimize_hyperparameters(config_path)\n",
    "\n",
    "        print(\"Starting final training with optimal hyperparameters...\")\n",
    "        final_model = YOLO('yolov8n.pt')\n",
    "        training_results = final_model.train(\n",
    "            data=config_path,\n",
    "            epochs=30,\n",
    "            imgsz=640,\n",
    "            batch=int(optimal_params['batch_size']),\n",
    "            lr0=float(optimal_params['learning_rate']),\n",
    "            name='yolov8_voc_optimized',\n",
    "            device=0 if torch.cuda.is_available() else 'cpu'\n",
    "        )\n",
    "\n",
    "        print(\"Performing standard validation...\")\n",
    "        standard_val_results = final_model.val(data=config_path)\n",
    "\n",
    "        print(f\"Standard mAP@0.5: {standard_val_results.box.map50:.4f}\")\n",
    "        print(f\"Standard mAP@0.5:0.95: {standard_val_results.box.map:.4f}\")\n",
    "\n",
    "        print(\"Calculating accuracy metrics...\")\n",
    "        accuracy_results = self.calculate_accuracy_metrics(final_model, train_data, val_data, sample_count=200)\n",
    "\n",
    "        print(\"\\n\" + \"=\"*60)\n",
    "        print(\"ACCURACY EVALUATION RESULTS\")\n",
    "        print(\"=\"*60)\n",
    "        print(\"Training Accuracy:\")\n",
    "        print(f\"  Classification Accuracy: {accuracy_results['training_accuracy']['classification_accuracy']:.4f}\")\n",
    "        print(f\"  Detection Accuracy: {accuracy_results['training_accuracy']['detection_accuracy']:.4f}\")\n",
    "        print(f\"  Object Detection Accuracy: {accuracy_results['training_accuracy']['object_detection_accuracy']:.4f}\")\n",
    "        print(\"\\nValidation Accuracy:\")\n",
    "        print(f\"  Classification Accuracy: {accuracy_results['validation_accuracy']['classification_accuracy']:.4f}\")\n",
    "        print(f\"  Detection Accuracy: {accuracy_results['validation_accuracy']['detection_accuracy']:.4f}\")\n",
    "        print(f\"  Object Detection Accuracy: {accuracy_results['validation_accuracy']['object_detection_accuracy']:.4f}\")\n",
    "        print(\"=\"*60)\n",
    "        experiment_dir = 'runs/detect/yolov8_voc_optimized'\n",
    "        training_df = self.load_training_metrics(experiment_dir)\n",
    "\n",
    "        if training_df is not None:\n",
    "            plt.figure(figsize=(16, 10))\n",
    "\n",
    "            plt.subplot(2, 2, 1)\n",
    "            loss_columns = ['train/box_loss', 'train/cls_loss', 'train/dfl_loss']\n",
    "            colors = ['blue', 'red', 'green']\n",
    "            for col, color in zip(loss_columns, colors):\n",
    "                if col in training_df.columns:\n",
    "                    plt.plot(training_df[col], label=col.split('/')[-1], color=color)\n",
    "            plt.title('Training Loss Progression')\n",
    "            plt.xlabel('Epoch')\n",
    "            plt.ylabel('Loss Value')\n",
    "            plt.legend()\n",
    "            plt.grid(True, alpha=0.3)\n",
    "\n",
    "            plt.subplot(2, 2, 2)\n",
    "            map_columns = ['metrics/mAP50-95(B)', 'metrics/mAP50(B)']\n",
    "            map_colors = ['purple', 'orange']\n",
    "            for col, color in zip(map_columns, map_colors):\n",
    "                if col in training_df.columns:\n",
    "                    label = 'mAP@0.5:0.95' if '50-95' in col else 'mAP@0.5'\n",
    "                    plt.plot(training_df[col], label=label, color=color)\n",
    "            plt.title('Validation mAP Progression')\n",
    "            plt.xlabel('Epoch')\n",
    "            plt.ylabel('mAP Score')\n",
    "            plt.legend()\n",
    "            plt.grid(True, alpha=0.3)\n",
    "\n",
    "            plt.subplot(2, 2, 3)\n",
    "            pr_columns = ['metrics/precision(B)', 'metrics/recall(B)']\n",
    "            pr_colors = ['cyan', 'magenta']\n",
    "            for col, color in zip(pr_columns, pr_colors):\n",
    "                if col in training_df.columns:\n",
    "                    plt.plot(training_df[col], label=col.split('/')[-1].split('(')[0], color=color)\n",
    "            plt.title('Precision & Recall Progression')\n",
    "            plt.xlabel('Epoch')\n",
    "            plt.ylabel('Score')\n",
    "            plt.legend()\n",
    "            plt.grid(True, alpha=0.3)\n",
    "\n",
    "            plt.subplot(2, 2, 4)\n",
    "            if 'lr/pg0' in training_df.columns:\n",
    "                plt.plot(training_df['lr/pg0'], color='brown', linewidth=2)\n",
    "            plt.title('Learning Rate Schedule')\n",
    "            plt.xlabel('Epoch')\n",
    "            plt.ylabel('Learning Rate')\n",
    "            plt.grid(True, alpha=0.3)\n",
    "\n",
    "            plt.tight_layout()\n",
    "            plt.savefig('training_progression.png', dpi=300, bbox_inches='tight')\n",
    "            print(\"Training progression plots saved to training_progression.png\")\n",
    "        else:\n",
    "            print(\"Training metrics could not be loaded\")\n",
    "\n",
    "        self.create_accuracy_plots(accuracy_results, 'accuracy_analysis.png')\n",
    "        model_save_path = 'yolov8_voc_trained.pt'\n",
    "        final_model.save(model_save_path)\n",
    "        print(f\"Trained model saved to {model_save_path}\")\n",
    "\n",
    "        return final_model, accuracy_results"
   ],
   "metadata": {
    "id": "QowpBgEtNE35"
   },
   "execution_count": null,
   "outputs": []
  },
  {
   "cell_type": "code",
   "source": [
    "if __name__ == \"__main__\":\n",
    "    pipeline = YOLOTrainingPipeline()\n",
    "    trained_model, accuracy_metrics = pipeline.execute_training_pipeline()"
   ],
   "metadata": {
    "colab": {
     "base_uri": "https://localhost:8080/",
     "height": 1000
    },
    "id": "SIQ5oNlUNHkG",
    "outputId": "739ecf71-fbb5-41b9-eb49-331247e75778"
   },
   "execution_count": null,
   "outputs": [
    {
     "metadata": {
      "tags": null
     },
     "name": "stdout",
     "output_type": "stream",
     "text": [
      "Initialized training pipeline on: cuda\n",
      "Downloading Pascal VOC 2012 dataset...\n",
      "Dataset loaded: 5717 training, 5823 validation samples\n",
      "Directory structure created successfully\n",
      "Processing train annotations...\n",
      "Processed 0/5717 samples\n",
      "Processed 200/5717 samples\n",
      "Processed 400/5717 samples\n",
      "Processed 600/5717 samples\n",
      "Processed 800/5717 samples\n",
      "Processed 1000/5717 samples\n",
      "Processed 1200/5717 samples\n",
      "Processed 1400/5717 samples\n",
      "Processed 1600/5717 samples\n",
      "Processed 1800/5717 samples\n",
      "Processed 2000/5717 samples\n",
      "Processed 2200/5717 samples\n",
      "Processed 2400/5717 samples\n",
      "Processed 2600/5717 samples\n",
      "Processed 2800/5717 samples\n",
      "Processed 3000/5717 samples\n",
      "Processed 3200/5717 samples\n",
      "Processed 3400/5717 samples\n",
      "Processed 3600/5717 samples\n",
      "Processed 3800/5717 samples\n",
      "Processed 4000/5717 samples\n",
      "Processed 4200/5717 samples\n",
      "Processed 4400/5717 samples\n",
      "Processed 4600/5717 samples\n",
      "Processed 4800/5717 samples\n",
      "Processed 5000/5717 samples\n",
      "Processed 5200/5717 samples\n",
      "Processed 5400/5717 samples\n",
      "Processed 5600/5717 samples\n",
      "Processing val annotations...\n",
      "Processed 0/5823 samples\n",
      "Processed 200/5823 samples\n",
      "Processed 400/5823 samples\n",
      "Processed 600/5823 samples\n",
      "Processed 800/5823 samples\n",
      "Processed 1000/5823 samples\n",
      "Processed 1200/5823 samples\n",
      "Processed 1400/5823 samples\n",
      "Processed 1600/5823 samples\n",
      "Processed 1800/5823 samples\n",
      "Processed 2000/5823 samples\n",
      "Processed 2200/5823 samples\n",
      "Processed 2400/5823 samples\n",
      "Processed 2600/5823 samples\n",
      "Processed 2800/5823 samples\n",
      "Processed 3000/5823 samples\n",
      "Processed 3200/5823 samples\n",
      "Processed 3400/5823 samples\n",
      "Processed 3600/5823 samples\n",
      "Processed 3800/5823 samples\n",
      "Processed 4000/5823 samples\n",
      "Processed 4200/5823 samples\n",
      "Processed 4400/5823 samples\n",
      "Processed 4600/5823 samples\n",
      "Processed 4800/5823 samples\n",
      "Processed 5000/5823 samples\n",
      "Processed 5200/5823 samples\n",
      "Processed 5400/5823 samples\n",
      "Processed 5600/5823 samples\n",
      "Processed 5800/5823 samples\n",
      "Configuration file created: /content/datasets/dataset_config.yaml\n",
      "Train path: /content/datasets/VOC/train\n",
      "Val path: /content/datasets/VOC/val\n",
      "Testing configuration: LR=0.001, Batch=8\n",
      "Ultralytics 8.3.146 🚀 Python-3.11.12 torch-2.6.0+cu124 CUDA:0 (Tesla T4, 15095MiB)\n",
      "\u001B[34m\u001B[1mengine/trainer: \u001B[0magnostic_nms=False, amp=True, augment=False, auto_augment=randaugment, batch=8, bgr=0.0, box=7.5, cache=False, cfg=None, classes=None, close_mosaic=10, cls=0.5, conf=None, copy_paste=0.0, copy_paste_mode=flip, cos_lr=False, cutmix=0.0, data=/content/datasets/dataset_config.yaml, degrees=0.0, deterministic=True, device=0, dfl=1.5, dnn=False, dropout=0.0, dynamic=False, embed=None, epochs=5, erasing=0.4, exist_ok=False, fliplr=0.5, flipud=0.0, format=torchscript, fraction=1.0, freeze=None, half=False, hsv_h=0.015, hsv_s=0.7, hsv_v=0.4, imgsz=640, int8=False, iou=0.7, keras=False, kobj=1.0, line_width=None, lr0=0.001, lrf=0.01, mask_ratio=4, max_det=300, mixup=0.0, mode=train, model=yolov8n.pt, momentum=0.937, mosaic=1.0, multi_scale=False, name=tuning_lr0.001_b82, nbs=64, nms=False, opset=None, optimize=False, optimizer=auto, overlap_mask=True, patience=100, perspective=0.0, plots=True, pose=12.0, pretrained=True, profile=False, project=None, rect=False, resume=False, retina_masks=False, save=True, save_conf=False, save_crop=False, save_dir=runs/detect/tuning_lr0.001_b82, save_frames=False, save_json=False, save_period=-1, save_txt=False, scale=0.5, seed=0, shear=0.0, show=False, show_boxes=True, show_conf=True, show_labels=True, simplify=True, single_cls=False, source=None, split=val, stream_buffer=False, task=detect, time=None, tracker=botsort.yaml, translate=0.1, val=True, verbose=True, vid_stride=1, visualize=False, warmup_bias_lr=0.1, warmup_epochs=3.0, warmup_momentum=0.8, weight_decay=0.0005, workers=8, workspace=None\n",
      "Overriding model.yaml nc=80 with nc=20\n",
      "\n",
      "                   from  n    params  module                                       arguments                     \n",
      "  0                  -1  1       464  ultralytics.nn.modules.conv.Conv             [3, 16, 3, 2]                 \n",
      "  1                  -1  1      4672  ultralytics.nn.modules.conv.Conv             [16, 32, 3, 2]                \n",
      "  2                  -1  1      7360  ultralytics.nn.modules.block.C2f             [32, 32, 1, True]             \n",
      "  3                  -1  1     18560  ultralytics.nn.modules.conv.Conv             [32, 64, 3, 2]                \n",
      "  4                  -1  2     49664  ultralytics.nn.modules.block.C2f             [64, 64, 2, True]             \n",
      "  5                  -1  1     73984  ultralytics.nn.modules.conv.Conv             [64, 128, 3, 2]               \n",
      "  6                  -1  2    197632  ultralytics.nn.modules.block.C2f             [128, 128, 2, True]           \n",
      "  7                  -1  1    295424  ultralytics.nn.modules.conv.Conv             [128, 256, 3, 2]              \n",
      "  8                  -1  1    460288  ultralytics.nn.modules.block.C2f             [256, 256, 1, True]           \n",
      "  9                  -1  1    164608  ultralytics.nn.modules.block.SPPF            [256, 256, 5]                 \n",
      " 10                  -1  1         0  torch.nn.modules.upsampling.Upsample         [None, 2, 'nearest']          \n",
      " 11             [-1, 6]  1         0  ultralytics.nn.modules.conv.Concat           [1]                           \n",
      " 12                  -1  1    148224  ultralytics.nn.modules.block.C2f             [384, 128, 1]                 \n",
      " 13                  -1  1         0  torch.nn.modules.upsampling.Upsample         [None, 2, 'nearest']          \n",
      " 14             [-1, 4]  1         0  ultralytics.nn.modules.conv.Concat           [1]                           \n",
      " 15                  -1  1     37248  ultralytics.nn.modules.block.C2f             [192, 64, 1]                  \n",
      " 16                  -1  1     36992  ultralytics.nn.modules.conv.Conv             [64, 64, 3, 2]                \n",
      " 17            [-1, 12]  1         0  ultralytics.nn.modules.conv.Concat           [1]                           \n",
      " 18                  -1  1    123648  ultralytics.nn.modules.block.C2f             [192, 128, 1]                 \n",
      " 19                  -1  1    147712  ultralytics.nn.modules.conv.Conv             [128, 128, 3, 2]              \n",
      " 20             [-1, 9]  1         0  ultralytics.nn.modules.conv.Concat           [1]                           \n",
      " 21                  -1  1    493056  ultralytics.nn.modules.block.C2f             [384, 256, 1]                 \n",
      " 22        [15, 18, 21]  1    755212  ultralytics.nn.modules.head.Detect           [20, [64, 128, 256]]          \n",
      "Model summary: 129 layers, 3,014,748 parameters, 3,014,732 gradients, 8.2 GFLOPs\n",
      "\n",
      "Transferred 319/355 items from pretrained weights\n",
      "Freezing layer 'model.22.dfl.conv.weight'\n",
      "\u001B[34m\u001B[1mAMP: \u001B[0mrunning Automatic Mixed Precision (AMP) checks...\n",
      "\u001B[34m\u001B[1mAMP: \u001B[0mchecks passed ✅\n",
      "\u001B[34m\u001B[1mtrain: \u001B[0mFast image access ✅ (ping: 0.0±0.0 ms, read: 1122.9±706.3 MB/s, size: 31.1 KB)\n"
     ]
    },
    {
     "metadata": {
      "tags": null
     },
     "name": "stderr",
     "output_type": "stream",
     "text": [
      "\u001B[34m\u001B[1mtrain: \u001B[0mScanning /content/datasets/VOC/train/labels... 5717 images, 0 backgrounds, 0 corrupt: 100%|██████████| 5717/5717 [00:02<00:00, 2496.68it/s]\n"
     ]
    },
    {
     "metadata": {
      "tags": null
     },
     "name": "stdout",
     "output_type": "stream",
     "text": [
      "\u001B[34m\u001B[1mtrain: \u001B[0mNew cache created: /content/datasets/VOC/train/labels.cache\n",
      "\u001B[34m\u001B[1malbumentations: \u001B[0mBlur(p=0.01, blur_limit=(3, 7)), MedianBlur(p=0.01, blur_limit=(3, 7)), ToGray(p=0.01, method='weighted_average', num_output_channels=3), CLAHE(p=0.01, clip_limit=(1.0, 4.0), tile_grid_size=(8, 8))\n",
      "\u001B[34m\u001B[1mval: \u001B[0mFast image access ✅ (ping: 0.0±0.0 ms, read: 1185.9±654.6 MB/s, size: 31.9 KB)\n"
     ]
    },
    {
     "metadata": {
      "tags": null
     },
     "name": "stderr",
     "output_type": "stream",
     "text": [
      "\u001B[34m\u001B[1mval: \u001B[0mScanning /content/datasets/VOC/val/labels... 5823 images, 0 backgrounds, 0 corrupt: 100%|██████████| 5823/5823 [00:02<00:00, 2211.71it/s]"
     ]
    },
    {
     "metadata": {
      "tags": null
     },
     "name": "stdout",
     "output_type": "stream",
     "text": [
      "\u001B[34m\u001B[1mval: \u001B[0mNew cache created: /content/datasets/VOC/val/labels.cache\n"
     ]
    },
    {
     "metadata": {
      "tags": null
     },
     "name": "stderr",
     "output_type": "stream",
     "text": [
      "\n"
     ]
    },
    {
     "metadata": {
      "tags": null
     },
     "name": "stdout",
     "output_type": "stream",
     "text": [
      "Plotting labels to runs/detect/tuning_lr0.001_b82/labels.jpg... \n",
      "\u001B[34m\u001B[1moptimizer:\u001B[0m 'optimizer=auto' found, ignoring 'lr0=0.001' and 'momentum=0.937' and determining best 'optimizer', 'lr0' and 'momentum' automatically... \n",
      "\u001B[34m\u001B[1moptimizer:\u001B[0m AdamW(lr=0.000417, momentum=0.9) with parameter groups 57 weight(decay=0.0), 64 weight(decay=0.0005), 63 bias(decay=0.0)\n",
      "Image sizes 640 train, 640 val\n",
      "Using 2 dataloader workers\n",
      "Logging results to \u001B[1mruns/detect/tuning_lr0.001_b82\u001B[0m\n",
      "Starting training for 5 epochs...\n",
      "\n",
      "      Epoch    GPU_mem   box_loss   cls_loss   dfl_loss  Instances       Size\n"
     ]
    },
    {
     "metadata": {
      "tags": null
     },
     "name": "stderr",
     "output_type": "stream",
     "text": [
      "        1/5      1.21G      1.048      2.812      1.317         39        640: 100%|██████████| 715/715 [01:56<00:00,  6.13it/s]\n",
      "                 Class     Images  Instances      Box(P          R      mAP50  mAP50-95): 100%|██████████| 364/364 [00:46<00:00,  7.80it/s]\n"
     ]
    },
    {
     "metadata": {
      "tags": null
     },
     "name": "stdout",
     "output_type": "stream",
     "text": [
      "                   all       5823      15787      0.599      0.543       0.56      0.378\n",
      "\n",
      "      Epoch    GPU_mem   box_loss   cls_loss   dfl_loss  Instances       Size\n"
     ]
    },
    {
     "metadata": {
      "tags": null
     },
     "name": "stderr",
     "output_type": "stream",
     "text": [
      "        2/5      1.63G      1.088      2.051       1.35         26        640: 100%|██████████| 715/715 [01:51<00:00,  6.43it/s]\n",
      "                 Class     Images  Instances      Box(P          R      mAP50  mAP50-95): 100%|██████████| 364/364 [00:46<00:00,  7.88it/s]\n"
     ]
    },
    {
     "metadata": {
      "tags": null
     },
     "name": "stdout",
     "output_type": "stream",
     "text": [
      "                   all       5823      15787      0.629      0.555      0.576      0.393\n",
      "\n",
      "      Epoch    GPU_mem   box_loss   cls_loss   dfl_loss  Instances       Size\n"
     ]
    },
    {
     "metadata": {
      "tags": null
     },
     "name": "stderr",
     "output_type": "stream",
     "text": [
      "        3/5      1.66G      1.082      1.956      1.345         17        640: 100%|██████████| 715/715 [01:53<00:00,  6.28it/s]\n",
      "                 Class     Images  Instances      Box(P          R      mAP50  mAP50-95): 100%|██████████| 364/364 [00:45<00:00,  8.05it/s]\n"
     ]
    },
    {
     "metadata": {
      "tags": null
     },
     "name": "stdout",
     "output_type": "stream",
     "text": [
      "                   all       5823      15787      0.655       0.57      0.624      0.424\n",
      "\n",
      "      Epoch    GPU_mem   box_loss   cls_loss   dfl_loss  Instances       Size\n"
     ]
    },
    {
     "metadata": {
      "tags": null
     },
     "name": "stderr",
     "output_type": "stream",
     "text": [
      "        4/5      1.67G      1.047      1.818      1.318         23        640: 100%|██████████| 715/715 [01:54<00:00,  6.22it/s]\n",
      "                 Class     Images  Instances      Box(P          R      mAP50  mAP50-95): 100%|██████████| 364/364 [00:45<00:00,  7.95it/s]\n"
     ]
    },
    {
     "metadata": {
      "tags": null
     },
     "name": "stdout",
     "output_type": "stream",
     "text": [
      "                   all       5823      15787      0.692      0.607      0.658      0.456\n",
      "\n",
      "      Epoch    GPU_mem   box_loss   cls_loss   dfl_loss  Instances       Size\n"
     ]
    },
    {
     "metadata": {
      "tags": null
     },
     "name": "stderr",
     "output_type": "stream",
     "text": [
      "        5/5      1.69G     0.9953      1.673      1.284         20        640: 100%|██████████| 715/715 [01:51<00:00,  6.40it/s]\n",
      "                 Class     Images  Instances      Box(P          R      mAP50  mAP50-95): 100%|██████████| 364/364 [00:46<00:00,  7.90it/s]\n"
     ]
    },
    {
     "metadata": {
      "tags": null
     },
     "name": "stdout",
     "output_type": "stream",
     "text": [
      "                   all       5823      15787      0.749      0.621      0.696      0.494\n",
      "\n",
      "5 epochs completed in 0.223 hours.\n",
      "Optimizer stripped from runs/detect/tuning_lr0.001_b82/weights/last.pt, 6.2MB\n",
      "Optimizer stripped from runs/detect/tuning_lr0.001_b82/weights/best.pt, 6.2MB\n",
      "\n",
      "Validating runs/detect/tuning_lr0.001_b82/weights/best.pt...\n",
      "Ultralytics 8.3.146 🚀 Python-3.11.12 torch-2.6.0+cu124 CUDA:0 (Tesla T4, 15095MiB)\n",
      "Model summary (fused): 72 layers, 3,009,548 parameters, 0 gradients, 8.1 GFLOPs\n"
     ]
    },
    {
     "metadata": {
      "tags": null
     },
     "name": "stderr",
     "output_type": "stream",
     "text": [
      "                 Class     Images  Instances      Box(P          R      mAP50  mAP50-95): 100%|██████████| 364/364 [00:48<00:00,  7.47it/s]\n"
     ]
    },
    {
     "metadata": {
      "tags": null
     },
     "name": "stdout",
     "output_type": "stream",
     "text": [
      "                   all       5823      15787       0.75       0.62      0.696      0.493\n",
      "             aeroplane        348        484      0.849       0.65      0.761      0.533\n",
      "               bicycle        290        380       0.76      0.653      0.726      0.505\n",
      "                  bird        374        629        0.8      0.566      0.655      0.447\n",
      "                  boat        252        491      0.538      0.487      0.508      0.308\n",
      "                bottle        369        733      0.778      0.435      0.556      0.371\n",
      "                   bus        211        320      0.882      0.731      0.801      0.668\n",
      "                   car        608       1173      0.823      0.644      0.746      0.526\n",
      "                   cat        544        618      0.846      0.704      0.826      0.608\n",
      "                 chair        642       1449      0.639       0.48       0.55      0.366\n",
      "                   cow        154        347      0.599      0.674      0.685      0.482\n",
      "           diningtable        323        374      0.592      0.656      0.631      0.426\n",
      "                   dog        661        773      0.742      0.714      0.751      0.559\n",
      "                 horse        245        373      0.804      0.708      0.809      0.603\n",
      "             motorbike        262        376      0.828      0.676      0.794      0.544\n",
      "                person       2232       5110      0.837      0.734      0.824      0.563\n",
      "           pottedplant        279        542      0.714      0.273      0.448      0.279\n",
      "                 sheep        155        485      0.785      0.641      0.722      0.521\n",
      "                  sofa        336        387      0.592      0.623      0.627      0.466\n",
      "                 train        275        329      0.854      0.748      0.831      0.611\n",
      "             tvmonitor        296        414      0.732      0.594      0.668      0.482\n",
      "Speed: 0.2ms preprocess, 1.8ms inference, 0.0ms loss, 1.5ms postprocess per image\n",
      "Results saved to \u001B[1mruns/detect/tuning_lr0.001_b82\u001B[0m\n",
      "Ultralytics 8.3.146 🚀 Python-3.11.12 torch-2.6.0+cu124 CUDA:0 (Tesla T4, 15095MiB)\n",
      "Model summary (fused): 72 layers, 3,009,548 parameters, 0 gradients, 8.1 GFLOPs\n",
      "\u001B[34m\u001B[1mval: \u001B[0mFast image access ✅ (ping: 0.0±0.0 ms, read: 1663.5±789.9 MB/s, size: 39.6 KB)\n"
     ]
    },
    {
     "metadata": {
      "tags": null
     },
     "name": "stderr",
     "output_type": "stream",
     "text": [
      "\u001B[34m\u001B[1mval: \u001B[0mScanning /content/datasets/VOC/val/labels.cache... 5823 images, 0 backgrounds, 0 corrupt: 100%|██████████| 5823/5823 [00:00<?, ?it/s]\n",
      "                 Class     Images  Instances      Box(P          R      mAP50  mAP50-95): 100%|██████████| 728/728 [00:51<00:00, 14.27it/s]\n"
     ]
    },
    {
     "metadata": {
      "tags": null
     },
     "name": "stdout",
     "output_type": "stream",
     "text": [
      "                   all       5823      15787       0.75       0.62      0.696      0.493\n",
      "             aeroplane        348        484      0.844      0.649      0.761      0.534\n",
      "               bicycle        290        380      0.754       0.65      0.723      0.505\n",
      "                  bird        374        629      0.792      0.566      0.651      0.447\n",
      "                  boat        252        491      0.546      0.485      0.509      0.308\n",
      "                bottle        369        733      0.785      0.438      0.557      0.373\n",
      "                   bus        211        320      0.879      0.731        0.8      0.668\n",
      "                   car        608       1173      0.824      0.643      0.746      0.525\n",
      "                   cat        544        618      0.848      0.706      0.827      0.609\n",
      "                 chair        642       1449      0.641       0.48      0.551      0.366\n",
      "                   cow        154        347      0.599      0.677      0.689      0.483\n",
      "           diningtable        323        374      0.595      0.655      0.631      0.426\n",
      "                   dog        661        773      0.746      0.713      0.752      0.558\n",
      "                 horse        245        373      0.805      0.708      0.808      0.602\n",
      "             motorbike        262        376      0.826      0.678      0.794      0.543\n",
      "                person       2232       5110      0.839      0.733      0.825      0.563\n",
      "           pottedplant        279        542      0.706      0.269      0.449      0.278\n",
      "                 sheep        155        485      0.786      0.643      0.723      0.522\n",
      "                  sofa        336        387      0.594      0.625      0.627      0.466\n",
      "                 train        275        329      0.855      0.751      0.831       0.61\n",
      "             tvmonitor        296        414      0.734      0.594      0.668       0.48\n",
      "Speed: 0.2ms preprocess, 3.0ms inference, 0.0ms loss, 1.3ms postprocess per image\n",
      "Results saved to \u001B[1mruns/detect/tuning_lr0.001_b822\u001B[0m\n",
      "Testing configuration: LR=0.001, Batch=16\n",
      "Ultralytics 8.3.146 🚀 Python-3.11.12 torch-2.6.0+cu124 CUDA:0 (Tesla T4, 15095MiB)\n",
      "\u001B[34m\u001B[1mengine/trainer: \u001B[0magnostic_nms=False, amp=True, augment=False, auto_augment=randaugment, batch=16, bgr=0.0, box=7.5, cache=False, cfg=None, classes=None, close_mosaic=10, cls=0.5, conf=None, copy_paste=0.0, copy_paste_mode=flip, cos_lr=False, cutmix=0.0, data=/content/datasets/dataset_config.yaml, degrees=0.0, deterministic=True, device=0, dfl=1.5, dnn=False, dropout=0.0, dynamic=False, embed=None, epochs=5, erasing=0.4, exist_ok=False, fliplr=0.5, flipud=0.0, format=torchscript, fraction=1.0, freeze=None, half=False, hsv_h=0.015, hsv_s=0.7, hsv_v=0.4, imgsz=640, int8=False, iou=0.7, keras=False, kobj=1.0, line_width=None, lr0=0.001, lrf=0.01, mask_ratio=4, max_det=300, mixup=0.0, mode=train, model=yolov8n.pt, momentum=0.937, mosaic=1.0, multi_scale=False, name=tuning_lr0.001_b16, nbs=64, nms=False, opset=None, optimize=False, optimizer=auto, overlap_mask=True, patience=100, perspective=0.0, plots=True, pose=12.0, pretrained=True, profile=False, project=None, rect=False, resume=False, retina_masks=False, save=True, save_conf=False, save_crop=False, save_dir=runs/detect/tuning_lr0.001_b16, save_frames=False, save_json=False, save_period=-1, save_txt=False, scale=0.5, seed=0, shear=0.0, show=False, show_boxes=True, show_conf=True, show_labels=True, simplify=True, single_cls=False, source=None, split=val, stream_buffer=False, task=detect, time=None, tracker=botsort.yaml, translate=0.1, val=True, verbose=True, vid_stride=1, visualize=False, warmup_bias_lr=0.1, warmup_epochs=3.0, warmup_momentum=0.8, weight_decay=0.0005, workers=8, workspace=None\n",
      "Overriding model.yaml nc=80 with nc=20\n",
      "\n",
      "                   from  n    params  module                                       arguments                     \n",
      "  0                  -1  1       464  ultralytics.nn.modules.conv.Conv             [3, 16, 3, 2]                 \n",
      "  1                  -1  1      4672  ultralytics.nn.modules.conv.Conv             [16, 32, 3, 2]                \n",
      "  2                  -1  1      7360  ultralytics.nn.modules.block.C2f             [32, 32, 1, True]             \n",
      "  3                  -1  1     18560  ultralytics.nn.modules.conv.Conv             [32, 64, 3, 2]                \n",
      "  4                  -1  2     49664  ultralytics.nn.modules.block.C2f             [64, 64, 2, True]             \n",
      "  5                  -1  1     73984  ultralytics.nn.modules.conv.Conv             [64, 128, 3, 2]               \n",
      "  6                  -1  2    197632  ultralytics.nn.modules.block.C2f             [128, 128, 2, True]           \n",
      "  7                  -1  1    295424  ultralytics.nn.modules.conv.Conv             [128, 256, 3, 2]              \n",
      "  8                  -1  1    460288  ultralytics.nn.modules.block.C2f             [256, 256, 1, True]           \n",
      "  9                  -1  1    164608  ultralytics.nn.modules.block.SPPF            [256, 256, 5]                 \n",
      " 10                  -1  1         0  torch.nn.modules.upsampling.Upsample         [None, 2, 'nearest']          \n",
      " 11             [-1, 6]  1         0  ultralytics.nn.modules.conv.Concat           [1]                           \n",
      " 12                  -1  1    148224  ultralytics.nn.modules.block.C2f             [384, 128, 1]                 \n",
      " 13                  -1  1         0  torch.nn.modules.upsampling.Upsample         [None, 2, 'nearest']          \n",
      " 14             [-1, 4]  1         0  ultralytics.nn.modules.conv.Concat           [1]                           \n",
      " 15                  -1  1     37248  ultralytics.nn.modules.block.C2f             [192, 64, 1]                  \n",
      " 16                  -1  1     36992  ultralytics.nn.modules.conv.Conv             [64, 64, 3, 2]                \n",
      " 17            [-1, 12]  1         0  ultralytics.nn.modules.conv.Concat           [1]                           \n",
      " 18                  -1  1    123648  ultralytics.nn.modules.block.C2f             [192, 128, 1]                 \n",
      " 19                  -1  1    147712  ultralytics.nn.modules.conv.Conv             [128, 128, 3, 2]              \n",
      " 20             [-1, 9]  1         0  ultralytics.nn.modules.conv.Concat           [1]                           \n",
      " 21                  -1  1    493056  ultralytics.nn.modules.block.C2f             [384, 256, 1]                 \n",
      " 22        [15, 18, 21]  1    755212  ultralytics.nn.modules.head.Detect           [20, [64, 128, 256]]          \n",
      "Model summary: 129 layers, 3,014,748 parameters, 3,014,732 gradients, 8.2 GFLOPs\n",
      "\n",
      "Transferred 319/355 items from pretrained weights\n",
      "Freezing layer 'model.22.dfl.conv.weight'\n",
      "\u001B[34m\u001B[1mAMP: \u001B[0mrunning Automatic Mixed Precision (AMP) checks...\n",
      "\u001B[34m\u001B[1mAMP: \u001B[0mchecks passed ✅\n",
      "\u001B[34m\u001B[1mtrain: \u001B[0mFast image access ✅ (ping: 0.0±0.0 ms, read: 1358.3±608.4 MB/s, size: 31.1 KB)\n"
     ]
    },
    {
     "metadata": {
      "tags": null
     },
     "name": "stderr",
     "output_type": "stream",
     "text": [
      "\u001B[34m\u001B[1mtrain: \u001B[0mScanning /content/datasets/VOC/train/labels.cache... 5717 images, 0 backgrounds, 0 corrupt: 100%|██████████| 5717/5717 [00:00<?, ?it/s]\n"
     ]
    },
    {
     "metadata": {
      "tags": null
     },
     "name": "stdout",
     "output_type": "stream",
     "text": [
      "\u001B[34m\u001B[1malbumentations: \u001B[0mBlur(p=0.01, blur_limit=(3, 7)), MedianBlur(p=0.01, blur_limit=(3, 7)), ToGray(p=0.01, method='weighted_average', num_output_channels=3), CLAHE(p=0.01, clip_limit=(1.0, 4.0), tile_grid_size=(8, 8))\n",
      "\u001B[34m\u001B[1mval: \u001B[0mFast image access ✅ (ping: 0.0±0.0 ms, read: 557.6±435.6 MB/s, size: 31.9 KB)\n"
     ]
    },
    {
     "metadata": {
      "tags": null
     },
     "name": "stderr",
     "output_type": "stream",
     "text": [
      "\u001B[34m\u001B[1mval: \u001B[0mScanning /content/datasets/VOC/val/labels.cache... 5823 images, 0 backgrounds, 0 corrupt: 100%|██████████| 5823/5823 [00:00<?, ?it/s]\n"
     ]
    },
    {
     "metadata": {
      "tags": null
     },
     "name": "stdout",
     "output_type": "stream",
     "text": [
      "Plotting labels to runs/detect/tuning_lr0.001_b16/labels.jpg... \n",
      "\u001B[34m\u001B[1moptimizer:\u001B[0m 'optimizer=auto' found, ignoring 'lr0=0.001' and 'momentum=0.937' and determining best 'optimizer', 'lr0' and 'momentum' automatically... \n",
      "\u001B[34m\u001B[1moptimizer:\u001B[0m AdamW(lr=0.000417, momentum=0.9) with parameter groups 57 weight(decay=0.0), 64 weight(decay=0.0005), 63 bias(decay=0.0)\n",
      "Image sizes 640 train, 640 val\n",
      "Using 2 dataloader workers\n",
      "Logging results to \u001B[1mruns/detect/tuning_lr0.001_b16\u001B[0m\n",
      "Starting training for 5 epochs...\n",
      "\n",
      "      Epoch    GPU_mem   box_loss   cls_loss   dfl_loss  Instances       Size\n"
     ]
    },
    {
     "metadata": {
      "tags": null
     },
     "name": "stderr",
     "output_type": "stream",
     "text": [
      "        1/5      2.31G      1.026      2.808       1.29         28        640: 100%|██████████| 358/358 [01:39<00:00,  3.59it/s]\n",
      "                 Class     Images  Instances      Box(P          R      mAP50  mAP50-95): 100%|██████████| 182/182 [00:43<00:00,  4.22it/s]\n"
     ]
    },
    {
     "metadata": {
      "tags": null
     },
     "name": "stdout",
     "output_type": "stream",
     "text": [
      "                   all       5823      15787      0.626      0.564      0.583      0.403\n",
      "\n",
      "      Epoch    GPU_mem   box_loss   cls_loss   dfl_loss  Instances       Size\n"
     ]
    },
    {
     "metadata": {
      "tags": null
     },
     "name": "stderr",
     "output_type": "stream",
     "text": [
      "        2/5      3.38G      1.071      1.957       1.33         31        640: 100%|██████████| 358/358 [01:37<00:00,  3.67it/s]\n",
      "                 Class     Images  Instances      Box(P          R      mAP50  mAP50-95): 100%|██████████| 182/182 [00:42<00:00,  4.28it/s]\n"
     ]
    },
    {
     "metadata": {
      "tags": null
     },
     "name": "stdout",
     "output_type": "stream",
     "text": [
      "                   all       5823      15787      0.652      0.535       0.58      0.391\n",
      "\n",
      "      Epoch    GPU_mem   box_loss   cls_loss   dfl_loss  Instances       Size\n"
     ]
    },
    {
     "metadata": {
      "tags": null
     },
     "name": "stderr",
     "output_type": "stream",
     "text": [
      "        3/5      3.39G      1.068      1.853      1.329         25        640: 100%|██████████| 358/358 [01:35<00:00,  3.74it/s]\n",
      "                 Class     Images  Instances      Box(P          R      mAP50  mAP50-95): 100%|██████████| 182/182 [00:43<00:00,  4.21it/s]\n"
     ]
    },
    {
     "metadata": {
      "tags": null
     },
     "name": "stdout",
     "output_type": "stream",
     "text": [
      "                   all       5823      15787      0.644      0.561        0.6      0.415\n",
      "\n",
      "      Epoch    GPU_mem   box_loss   cls_loss   dfl_loss  Instances       Size\n"
     ]
    },
    {
     "metadata": {
      "tags": null
     },
     "name": "stderr",
     "output_type": "stream",
     "text": [
      "        4/5      3.39G       1.03       1.72        1.3         21        640: 100%|██████████| 358/358 [01:35<00:00,  3.76it/s]\n",
      "                 Class     Images  Instances      Box(P          R      mAP50  mAP50-95): 100%|██████████| 182/182 [00:43<00:00,  4.20it/s]\n"
     ]
    },
    {
     "metadata": {
      "tags": null
     },
     "name": "stdout",
     "output_type": "stream",
     "text": [
      "                   all       5823      15787      0.707      0.597      0.657      0.459\n",
      "\n",
      "      Epoch    GPU_mem   box_loss   cls_loss   dfl_loss  Instances       Size\n"
     ]
    },
    {
     "metadata": {
      "tags": null
     },
     "name": "stderr",
     "output_type": "stream",
     "text": [
      "        5/5      3.39G     0.9864      1.595      1.265         28        640: 100%|██████████| 358/358 [01:34<00:00,  3.79it/s]\n",
      "                 Class     Images  Instances      Box(P          R      mAP50  mAP50-95): 100%|██████████| 182/182 [00:45<00:00,  4.03it/s]\n"
     ]
    },
    {
     "metadata": {
      "tags": null
     },
     "name": "stdout",
     "output_type": "stream",
     "text": [
      "                   all       5823      15787      0.748      0.631      0.701        0.5\n",
      "\n",
      "5 epochs completed in 0.197 hours.\n",
      "Optimizer stripped from runs/detect/tuning_lr0.001_b16/weights/last.pt, 6.2MB\n",
      "Optimizer stripped from runs/detect/tuning_lr0.001_b16/weights/best.pt, 6.2MB\n",
      "\n",
      "Validating runs/detect/tuning_lr0.001_b16/weights/best.pt...\n",
      "Ultralytics 8.3.146 🚀 Python-3.11.12 torch-2.6.0+cu124 CUDA:0 (Tesla T4, 15095MiB)\n",
      "Model summary (fused): 72 layers, 3,009,548 parameters, 0 gradients, 8.1 GFLOPs\n"
     ]
    },
    {
     "metadata": {
      "tags": null
     },
     "name": "stderr",
     "output_type": "stream",
     "text": [
      "                 Class     Images  Instances      Box(P          R      mAP50  mAP50-95): 100%|██████████| 182/182 [00:47<00:00,  3.83it/s]\n"
     ]
    },
    {
     "metadata": {
      "tags": null
     },
     "name": "stdout",
     "output_type": "stream",
     "text": [
      "                   all       5823      15787      0.751      0.629      0.701        0.5\n",
      "             aeroplane        348        484      0.801      0.705      0.757      0.559\n",
      "               bicycle        290        380      0.853      0.657      0.754      0.563\n",
      "                  bird        374        629      0.718      0.617      0.659      0.461\n",
      "                  boat        252        491      0.627      0.442      0.522      0.318\n",
      "                bottle        369        733      0.704       0.49      0.553      0.369\n",
      "                   bus        211        320      0.825      0.756      0.797      0.662\n",
      "                   car        608       1173      0.813      0.651      0.746      0.523\n",
      "                   cat        544        618      0.805      0.723      0.807      0.579\n",
      "                 chair        642       1449      0.708      0.397      0.528      0.359\n",
      "                   cow        154        347      0.641      0.709      0.728      0.512\n",
      "           diningtable        323        374      0.668      0.577      0.625      0.415\n",
      "                   dog        661        773      0.671      0.797      0.779      0.582\n",
      "                 horse        245        373      0.854      0.735      0.825      0.611\n",
      "             motorbike        262        376      0.757      0.745      0.774      0.517\n",
      "                person       2232       5110      0.808      0.762      0.834       0.58\n",
      "           pottedplant        279        542      0.681      0.339      0.468      0.279\n",
      "                 sheep        155        485      0.794       0.66      0.733      0.547\n",
      "                  sofa        336        387      0.687      0.517      0.639      0.466\n",
      "                 train        275        329      0.761      0.772      0.806      0.601\n",
      "             tvmonitor        296        414      0.852      0.527      0.676      0.495\n",
      "Speed: 0.2ms preprocess, 1.7ms inference, 0.0ms loss, 1.6ms postprocess per image\n",
      "Results saved to \u001B[1mruns/detect/tuning_lr0.001_b16\u001B[0m\n",
      "Ultralytics 8.3.146 🚀 Python-3.11.12 torch-2.6.0+cu124 CUDA:0 (Tesla T4, 15095MiB)\n",
      "Model summary (fused): 72 layers, 3,009,548 parameters, 0 gradients, 8.1 GFLOPs\n",
      "\u001B[34m\u001B[1mval: \u001B[0mFast image access ✅ (ping: 0.0±0.0 ms, read: 1778.0±841.1 MB/s, size: 39.6 KB)\n"
     ]
    },
    {
     "metadata": {
      "tags": null
     },
     "name": "stderr",
     "output_type": "stream",
     "text": [
      "\u001B[34m\u001B[1mval: \u001B[0mScanning /content/datasets/VOC/val/labels.cache... 5823 images, 0 backgrounds, 0 corrupt: 100%|██████████| 5823/5823 [00:00<?, ?it/s]\n",
      "                 Class     Images  Instances      Box(P          R      mAP50  mAP50-95): 100%|██████████| 364/364 [00:50<00:00,  7.21it/s]\n"
     ]
    },
    {
     "metadata": {
      "tags": null
     },
     "name": "stdout",
     "output_type": "stream",
     "text": [
      "                   all       5823      15787      0.749      0.629      0.701        0.5\n",
      "             aeroplane        348        484      0.792      0.705      0.757      0.559\n",
      "               bicycle        290        380      0.853      0.655      0.755      0.561\n",
      "                  bird        374        629      0.715      0.614       0.66      0.461\n",
      "                  boat        252        491      0.618       0.44      0.519      0.318\n",
      "                bottle        369        733      0.704       0.49      0.554      0.368\n",
      "                   bus        211        320      0.825      0.756      0.798      0.663\n",
      "                   car        608       1173      0.812      0.651      0.748      0.523\n",
      "                   cat        544        618      0.799      0.728      0.807      0.579\n",
      "                 chair        642       1449      0.708        0.4      0.528      0.359\n",
      "                   cow        154        347      0.642      0.708      0.729      0.511\n",
      "           diningtable        323        374      0.671       0.58      0.626      0.416\n",
      "                   dog        661        773      0.667      0.794      0.777       0.58\n",
      "                 horse        245        373      0.848      0.735      0.824      0.611\n",
      "             motorbike        262        376      0.757      0.745      0.775      0.519\n",
      "                person       2232       5110      0.807      0.762      0.834       0.58\n",
      "           pottedplant        279        542      0.682      0.339      0.468      0.278\n",
      "                 sheep        155        485      0.789      0.662      0.733      0.547\n",
      "                  sofa        336        387      0.688      0.519      0.638      0.465\n",
      "                 train        275        329      0.761      0.769      0.806      0.598\n",
      "             tvmonitor        296        414      0.852      0.527      0.677      0.497\n",
      "Speed: 0.2ms preprocess, 2.8ms inference, 0.0ms loss, 1.3ms postprocess per image\n",
      "Results saved to \u001B[1mruns/detect/tuning_lr0.001_b162\u001B[0m\n",
      "Testing configuration: LR=0.01, Batch=8\n",
      "Ultralytics 8.3.146 🚀 Python-3.11.12 torch-2.6.0+cu124 CUDA:0 (Tesla T4, 15095MiB)\n",
      "\u001B[34m\u001B[1mengine/trainer: \u001B[0magnostic_nms=False, amp=True, augment=False, auto_augment=randaugment, batch=8, bgr=0.0, box=7.5, cache=False, cfg=None, classes=None, close_mosaic=10, cls=0.5, conf=None, copy_paste=0.0, copy_paste_mode=flip, cos_lr=False, cutmix=0.0, data=/content/datasets/dataset_config.yaml, degrees=0.0, deterministic=True, device=0, dfl=1.5, dnn=False, dropout=0.0, dynamic=False, embed=None, epochs=5, erasing=0.4, exist_ok=False, fliplr=0.5, flipud=0.0, format=torchscript, fraction=1.0, freeze=None, half=False, hsv_h=0.015, hsv_s=0.7, hsv_v=0.4, imgsz=640, int8=False, iou=0.7, keras=False, kobj=1.0, line_width=None, lr0=0.01, lrf=0.01, mask_ratio=4, max_det=300, mixup=0.0, mode=train, model=yolov8n.pt, momentum=0.937, mosaic=1.0, multi_scale=False, name=tuning_lr0.01_b8, nbs=64, nms=False, opset=None, optimize=False, optimizer=auto, overlap_mask=True, patience=100, perspective=0.0, plots=True, pose=12.0, pretrained=True, profile=False, project=None, rect=False, resume=False, retina_masks=False, save=True, save_conf=False, save_crop=False, save_dir=runs/detect/tuning_lr0.01_b8, save_frames=False, save_json=False, save_period=-1, save_txt=False, scale=0.5, seed=0, shear=0.0, show=False, show_boxes=True, show_conf=True, show_labels=True, simplify=True, single_cls=False, source=None, split=val, stream_buffer=False, task=detect, time=None, tracker=botsort.yaml, translate=0.1, val=True, verbose=True, vid_stride=1, visualize=False, warmup_bias_lr=0.1, warmup_epochs=3.0, warmup_momentum=0.8, weight_decay=0.0005, workers=8, workspace=None\n",
      "Overriding model.yaml nc=80 with nc=20\n",
      "\n",
      "                   from  n    params  module                                       arguments                     \n",
      "  0                  -1  1       464  ultralytics.nn.modules.conv.Conv             [3, 16, 3, 2]                 \n",
      "  1                  -1  1      4672  ultralytics.nn.modules.conv.Conv             [16, 32, 3, 2]                \n",
      "  2                  -1  1      7360  ultralytics.nn.modules.block.C2f             [32, 32, 1, True]             \n",
      "  3                  -1  1     18560  ultralytics.nn.modules.conv.Conv             [32, 64, 3, 2]                \n",
      "  4                  -1  2     49664  ultralytics.nn.modules.block.C2f             [64, 64, 2, True]             \n",
      "  5                  -1  1     73984  ultralytics.nn.modules.conv.Conv             [64, 128, 3, 2]               \n",
      "  6                  -1  2    197632  ultralytics.nn.modules.block.C2f             [128, 128, 2, True]           \n",
      "  7                  -1  1    295424  ultralytics.nn.modules.conv.Conv             [128, 256, 3, 2]              \n",
      "  8                  -1  1    460288  ultralytics.nn.modules.block.C2f             [256, 256, 1, True]           \n",
      "  9                  -1  1    164608  ultralytics.nn.modules.block.SPPF            [256, 256, 5]                 \n",
      " 10                  -1  1         0  torch.nn.modules.upsampling.Upsample         [None, 2, 'nearest']          \n",
      " 11             [-1, 6]  1         0  ultralytics.nn.modules.conv.Concat           [1]                           \n",
      " 12                  -1  1    148224  ultralytics.nn.modules.block.C2f             [384, 128, 1]                 \n",
      " 13                  -1  1         0  torch.nn.modules.upsampling.Upsample         [None, 2, 'nearest']          \n",
      " 14             [-1, 4]  1         0  ultralytics.nn.modules.conv.Concat           [1]                           \n",
      " 15                  -1  1     37248  ultralytics.nn.modules.block.C2f             [192, 64, 1]                  \n",
      " 16                  -1  1     36992  ultralytics.nn.modules.conv.Conv             [64, 64, 3, 2]                \n",
      " 17            [-1, 12]  1         0  ultralytics.nn.modules.conv.Concat           [1]                           \n",
      " 18                  -1  1    123648  ultralytics.nn.modules.block.C2f             [192, 128, 1]                 \n",
      " 19                  -1  1    147712  ultralytics.nn.modules.conv.Conv             [128, 128, 3, 2]              \n",
      " 20             [-1, 9]  1         0  ultralytics.nn.modules.conv.Concat           [1]                           \n",
      " 21                  -1  1    493056  ultralytics.nn.modules.block.C2f             [384, 256, 1]                 \n",
      " 22        [15, 18, 21]  1    755212  ultralytics.nn.modules.head.Detect           [20, [64, 128, 256]]          \n",
      "Model summary: 129 layers, 3,014,748 parameters, 3,014,732 gradients, 8.2 GFLOPs\n",
      "\n",
      "Transferred 319/355 items from pretrained weights\n",
      "Freezing layer 'model.22.dfl.conv.weight'\n",
      "\u001B[34m\u001B[1mAMP: \u001B[0mrunning Automatic Mixed Precision (AMP) checks...\n",
      "\u001B[34m\u001B[1mAMP: \u001B[0mchecks passed ✅\n",
      "\u001B[34m\u001B[1mtrain: \u001B[0mFast image access ✅ (ping: 0.0±0.0 ms, read: 1240.2±547.5 MB/s, size: 31.1 KB)\n"
     ]
    },
    {
     "metadata": {
      "tags": null
     },
     "name": "stderr",
     "output_type": "stream",
     "text": [
      "\u001B[34m\u001B[1mtrain: \u001B[0mScanning /content/datasets/VOC/train/labels.cache... 5717 images, 0 backgrounds, 0 corrupt: 100%|██████████| 5717/5717 [00:00<?, ?it/s]"
     ]
    },
    {
     "metadata": {
      "tags": null
     },
     "name": "stdout",
     "output_type": "stream",
     "text": [
      "\u001B[34m\u001B[1malbumentations: \u001B[0mBlur(p=0.01, blur_limit=(3, 7)), MedianBlur(p=0.01, blur_limit=(3, 7)), ToGray(p=0.01, method='weighted_average', num_output_channels=3), CLAHE(p=0.01, clip_limit=(1.0, 4.0), tile_grid_size=(8, 8))\n"
     ]
    },
    {
     "metadata": {
      "tags": null
     },
     "name": "stderr",
     "output_type": "stream",
     "text": [
      "\n"
     ]
    },
    {
     "metadata": {
      "tags": null
     },
     "name": "stdout",
     "output_type": "stream",
     "text": [
      "\u001B[34m\u001B[1mval: \u001B[0mFast image access ✅ (ping: 0.0±0.0 ms, read: 706.6±355.1 MB/s, size: 31.9 KB)\n"
     ]
    },
    {
     "metadata": {
      "tags": null
     },
     "name": "stderr",
     "output_type": "stream",
     "text": [
      "\u001B[34m\u001B[1mval: \u001B[0mScanning /content/datasets/VOC/val/labels.cache... 5823 images, 0 backgrounds, 0 corrupt: 100%|██████████| 5823/5823 [00:00<?, ?it/s]\n"
     ]
    },
    {
     "metadata": {
      "tags": null
     },
     "name": "stdout",
     "output_type": "stream",
     "text": [
      "Plotting labels to runs/detect/tuning_lr0.01_b8/labels.jpg... \n",
      "\u001B[34m\u001B[1moptimizer:\u001B[0m 'optimizer=auto' found, ignoring 'lr0=0.01' and 'momentum=0.937' and determining best 'optimizer', 'lr0' and 'momentum' automatically... \n",
      "\u001B[34m\u001B[1moptimizer:\u001B[0m AdamW(lr=0.000417, momentum=0.9) with parameter groups 57 weight(decay=0.0), 64 weight(decay=0.0005), 63 bias(decay=0.0)\n",
      "Image sizes 640 train, 640 val\n",
      "Using 2 dataloader workers\n",
      "Logging results to \u001B[1mruns/detect/tuning_lr0.01_b8\u001B[0m\n",
      "Starting training for 5 epochs...\n",
      "\n",
      "      Epoch    GPU_mem   box_loss   cls_loss   dfl_loss  Instances       Size\n"
     ]
    },
    {
     "metadata": {
      "tags": null
     },
     "name": "stderr",
     "output_type": "stream",
     "text": [
      "        1/5      1.44G      1.048      2.812      1.317         39        640: 100%|██████████| 715/715 [02:01<00:00,  5.87it/s]\n",
      "                 Class     Images  Instances      Box(P          R      mAP50  mAP50-95): 100%|██████████| 364/364 [00:48<00:00,  7.57it/s]\n"
     ]
    },
    {
     "metadata": {
      "tags": null
     },
     "name": "stdout",
     "output_type": "stream",
     "text": [
      "                   all       5823      15787      0.599      0.543       0.56      0.378\n",
      "\n",
      "      Epoch    GPU_mem   box_loss   cls_loss   dfl_loss  Instances       Size\n"
     ]
    },
    {
     "metadata": {
      "tags": null
     },
     "name": "stderr",
     "output_type": "stream",
     "text": [
      "        2/5      1.49G      1.088      2.051       1.35         26        640: 100%|██████████| 715/715 [01:57<00:00,  6.09it/s]\n",
      "                 Class     Images  Instances      Box(P          R      mAP50  mAP50-95): 100%|██████████| 364/364 [00:48<00:00,  7.51it/s]\n"
     ]
    },
    {
     "metadata": {
      "tags": null
     },
     "name": "stdout",
     "output_type": "stream",
     "text": [
      "                   all       5823      15787      0.629      0.555      0.576      0.393\n",
      "\n",
      "      Epoch    GPU_mem   box_loss   cls_loss   dfl_loss  Instances       Size\n"
     ]
    },
    {
     "metadata": {
      "tags": null
     },
     "name": "stderr",
     "output_type": "stream",
     "text": [
      "        3/5      1.52G      1.082      1.956      1.345         17        640: 100%|██████████| 715/715 [01:58<00:00,  6.05it/s]\n",
      "                 Class     Images  Instances      Box(P          R      mAP50  mAP50-95): 100%|██████████| 364/364 [00:48<00:00,  7.54it/s]\n"
     ]
    },
    {
     "metadata": {
      "tags": null
     },
     "name": "stdout",
     "output_type": "stream",
     "text": [
      "                   all       5823      15787      0.655       0.57      0.624      0.424\n",
      "\n",
      "      Epoch    GPU_mem   box_loss   cls_loss   dfl_loss  Instances       Size\n"
     ]
    },
    {
     "metadata": {
      "tags": null
     },
     "name": "stderr",
     "output_type": "stream",
     "text": [
      "        4/5      1.52G      1.047      1.818      1.318         23        640: 100%|██████████| 715/715 [01:56<00:00,  6.14it/s]\n",
      "                 Class     Images  Instances      Box(P          R      mAP50  mAP50-95): 100%|██████████| 364/364 [00:48<00:00,  7.55it/s]\n"
     ]
    },
    {
     "metadata": {
      "tags": null
     },
     "name": "stdout",
     "output_type": "stream",
     "text": [
      "                   all       5823      15787      0.692      0.607      0.658      0.456\n",
      "\n",
      "      Epoch    GPU_mem   box_loss   cls_loss   dfl_loss  Instances       Size\n"
     ]
    },
    {
     "metadata": {
      "tags": null
     },
     "name": "stderr",
     "output_type": "stream",
     "text": [
      "        5/5      1.52G     0.9953      1.673      1.284         20        640: 100%|██████████| 715/715 [01:55<00:00,  6.19it/s]\n",
      "                 Class     Images  Instances      Box(P          R      mAP50  mAP50-95): 100%|██████████| 364/364 [00:45<00:00,  7.95it/s]\n"
     ]
    },
    {
     "metadata": {
      "tags": null
     },
     "name": "stdout",
     "output_type": "stream",
     "text": [
      "                   all       5823      15787      0.749      0.621      0.696      0.494\n",
      "\n",
      "5 epochs completed in 0.232 hours.\n",
      "Optimizer stripped from runs/detect/tuning_lr0.01_b8/weights/last.pt, 6.2MB\n",
      "Optimizer stripped from runs/detect/tuning_lr0.01_b8/weights/best.pt, 6.2MB\n",
      "\n",
      "Validating runs/detect/tuning_lr0.01_b8/weights/best.pt...\n",
      "Ultralytics 8.3.146 🚀 Python-3.11.12 torch-2.6.0+cu124 CUDA:0 (Tesla T4, 15095MiB)\n",
      "Model summary (fused): 72 layers, 3,009,548 parameters, 0 gradients, 8.1 GFLOPs\n"
     ]
    },
    {
     "metadata": {
      "tags": null
     },
     "name": "stderr",
     "output_type": "stream",
     "text": [
      "                 Class     Images  Instances      Box(P          R      mAP50  mAP50-95): 100%|██████████| 364/364 [00:49<00:00,  7.38it/s]\n"
     ]
    },
    {
     "metadata": {
      "tags": null
     },
     "name": "stdout",
     "output_type": "stream",
     "text": [
      "                   all       5823      15787       0.75       0.62      0.696      0.493\n",
      "             aeroplane        348        484      0.849       0.65      0.761      0.533\n",
      "               bicycle        290        380       0.76      0.653      0.726      0.505\n",
      "                  bird        374        629        0.8      0.566      0.655      0.447\n",
      "                  boat        252        491      0.538      0.487      0.508      0.308\n",
      "                bottle        369        733      0.778      0.435      0.556      0.371\n",
      "                   bus        211        320      0.882      0.731      0.801      0.668\n",
      "                   car        608       1173      0.823      0.644      0.746      0.526\n",
      "                   cat        544        618      0.846      0.704      0.826      0.608\n",
      "                 chair        642       1449      0.639       0.48       0.55      0.366\n",
      "                   cow        154        347      0.599      0.674      0.685      0.482\n",
      "           diningtable        323        374      0.592      0.656      0.631      0.426\n",
      "                   dog        661        773      0.742      0.714      0.751      0.559\n",
      "                 horse        245        373      0.804      0.708      0.809      0.603\n",
      "             motorbike        262        376      0.828      0.676      0.794      0.544\n",
      "                person       2232       5110      0.837      0.734      0.824      0.563\n",
      "           pottedplant        279        542      0.714      0.273      0.448      0.279\n",
      "                 sheep        155        485      0.785      0.641      0.722      0.521\n",
      "                  sofa        336        387      0.592      0.623      0.627      0.466\n",
      "                 train        275        329      0.854      0.748      0.831      0.611\n",
      "             tvmonitor        296        414      0.732      0.594      0.668      0.482\n",
      "Speed: 0.2ms preprocess, 1.9ms inference, 0.0ms loss, 1.6ms postprocess per image\n",
      "Results saved to \u001B[1mruns/detect/tuning_lr0.01_b8\u001B[0m\n",
      "Ultralytics 8.3.146 🚀 Python-3.11.12 torch-2.6.0+cu124 CUDA:0 (Tesla T4, 15095MiB)\n",
      "Model summary (fused): 72 layers, 3,009,548 parameters, 0 gradients, 8.1 GFLOPs\n",
      "\u001B[34m\u001B[1mval: \u001B[0mFast image access ✅ (ping: 0.0±0.0 ms, read: 1231.9±721.8 MB/s, size: 39.6 KB)\n"
     ]
    },
    {
     "metadata": {
      "tags": null
     },
     "name": "stderr",
     "output_type": "stream",
     "text": [
      "\u001B[34m\u001B[1mval: \u001B[0mScanning /content/datasets/VOC/val/labels.cache... 5823 images, 0 backgrounds, 0 corrupt: 100%|██████████| 5823/5823 [00:00<?, ?it/s]\n",
      "                 Class     Images  Instances      Box(P          R      mAP50  mAP50-95): 100%|██████████| 728/728 [00:56<00:00, 12.91it/s]\n"
     ]
    },
    {
     "metadata": {
      "tags": null
     },
     "name": "stdout",
     "output_type": "stream",
     "text": [
      "                   all       5823      15787       0.75       0.62      0.696      0.493\n",
      "             aeroplane        348        484      0.844      0.649      0.761      0.534\n",
      "               bicycle        290        380      0.754       0.65      0.723      0.505\n",
      "                  bird        374        629      0.792      0.566      0.651      0.447\n",
      "                  boat        252        491      0.546      0.485      0.509      0.308\n",
      "                bottle        369        733      0.785      0.438      0.557      0.373\n",
      "                   bus        211        320      0.879      0.731        0.8      0.668\n",
      "                   car        608       1173      0.824      0.643      0.746      0.525\n",
      "                   cat        544        618      0.848      0.706      0.827      0.609\n",
      "                 chair        642       1449      0.641       0.48      0.551      0.366\n",
      "                   cow        154        347      0.599      0.677      0.689      0.483\n",
      "           diningtable        323        374      0.595      0.655      0.631      0.426\n",
      "                   dog        661        773      0.746      0.713      0.752      0.558\n",
      "                 horse        245        373      0.805      0.708      0.808      0.602\n",
      "             motorbike        262        376      0.826      0.678      0.794      0.543\n",
      "                person       2232       5110      0.839      0.733      0.825      0.563\n",
      "           pottedplant        279        542      0.706      0.269      0.449      0.278\n",
      "                 sheep        155        485      0.786      0.643      0.723      0.522\n",
      "                  sofa        336        387      0.594      0.625      0.627      0.466\n",
      "                 train        275        329      0.855      0.751      0.831       0.61\n",
      "             tvmonitor        296        414      0.734      0.594      0.668       0.48\n",
      "Speed: 0.2ms preprocess, 3.0ms inference, 0.0ms loss, 1.5ms postprocess per image\n",
      "Results saved to \u001B[1mruns/detect/tuning_lr0.01_b82\u001B[0m\n",
      "Testing configuration: LR=0.01, Batch=16\n",
      "Ultralytics 8.3.146 🚀 Python-3.11.12 torch-2.6.0+cu124 CUDA:0 (Tesla T4, 15095MiB)\n",
      "\u001B[34m\u001B[1mengine/trainer: \u001B[0magnostic_nms=False, amp=True, augment=False, auto_augment=randaugment, batch=16, bgr=0.0, box=7.5, cache=False, cfg=None, classes=None, close_mosaic=10, cls=0.5, conf=None, copy_paste=0.0, copy_paste_mode=flip, cos_lr=False, cutmix=0.0, data=/content/datasets/dataset_config.yaml, degrees=0.0, deterministic=True, device=0, dfl=1.5, dnn=False, dropout=0.0, dynamic=False, embed=None, epochs=5, erasing=0.4, exist_ok=False, fliplr=0.5, flipud=0.0, format=torchscript, fraction=1.0, freeze=None, half=False, hsv_h=0.015, hsv_s=0.7, hsv_v=0.4, imgsz=640, int8=False, iou=0.7, keras=False, kobj=1.0, line_width=None, lr0=0.01, lrf=0.01, mask_ratio=4, max_det=300, mixup=0.0, mode=train, model=yolov8n.pt, momentum=0.937, mosaic=1.0, multi_scale=False, name=tuning_lr0.01_b16, nbs=64, nms=False, opset=None, optimize=False, optimizer=auto, overlap_mask=True, patience=100, perspective=0.0, plots=True, pose=12.0, pretrained=True, profile=False, project=None, rect=False, resume=False, retina_masks=False, save=True, save_conf=False, save_crop=False, save_dir=runs/detect/tuning_lr0.01_b16, save_frames=False, save_json=False, save_period=-1, save_txt=False, scale=0.5, seed=0, shear=0.0, show=False, show_boxes=True, show_conf=True, show_labels=True, simplify=True, single_cls=False, source=None, split=val, stream_buffer=False, task=detect, time=None, tracker=botsort.yaml, translate=0.1, val=True, verbose=True, vid_stride=1, visualize=False, warmup_bias_lr=0.1, warmup_epochs=3.0, warmup_momentum=0.8, weight_decay=0.0005, workers=8, workspace=None\n",
      "Overriding model.yaml nc=80 with nc=20\n",
      "\n",
      "                   from  n    params  module                                       arguments                     \n",
      "  0                  -1  1       464  ultralytics.nn.modules.conv.Conv             [3, 16, 3, 2]                 \n",
      "  1                  -1  1      4672  ultralytics.nn.modules.conv.Conv             [16, 32, 3, 2]                \n",
      "  2                  -1  1      7360  ultralytics.nn.modules.block.C2f             [32, 32, 1, True]             \n",
      "  3                  -1  1     18560  ultralytics.nn.modules.conv.Conv             [32, 64, 3, 2]                \n",
      "  4                  -1  2     49664  ultralytics.nn.modules.block.C2f             [64, 64, 2, True]             \n",
      "  5                  -1  1     73984  ultralytics.nn.modules.conv.Conv             [64, 128, 3, 2]               \n",
      "  6                  -1  2    197632  ultralytics.nn.modules.block.C2f             [128, 128, 2, True]           \n",
      "  7                  -1  1    295424  ultralytics.nn.modules.conv.Conv             [128, 256, 3, 2]              \n",
      "  8                  -1  1    460288  ultralytics.nn.modules.block.C2f             [256, 256, 1, True]           \n",
      "  9                  -1  1    164608  ultralytics.nn.modules.block.SPPF            [256, 256, 5]                 \n",
      " 10                  -1  1         0  torch.nn.modules.upsampling.Upsample         [None, 2, 'nearest']          \n",
      " 11             [-1, 6]  1         0  ultralytics.nn.modules.conv.Concat           [1]                           \n",
      " 12                  -1  1    148224  ultralytics.nn.modules.block.C2f             [384, 128, 1]                 \n",
      " 13                  -1  1         0  torch.nn.modules.upsampling.Upsample         [None, 2, 'nearest']          \n",
      " 14             [-1, 4]  1         0  ultralytics.nn.modules.conv.Concat           [1]                           \n",
      " 15                  -1  1     37248  ultralytics.nn.modules.block.C2f             [192, 64, 1]                  \n",
      " 16                  -1  1     36992  ultralytics.nn.modules.conv.Conv             [64, 64, 3, 2]                \n",
      " 17            [-1, 12]  1         0  ultralytics.nn.modules.conv.Concat           [1]                           \n",
      " 18                  -1  1    123648  ultralytics.nn.modules.block.C2f             [192, 128, 1]                 \n",
      " 19                  -1  1    147712  ultralytics.nn.modules.conv.Conv             [128, 128, 3, 2]              \n",
      " 20             [-1, 9]  1         0  ultralytics.nn.modules.conv.Concat           [1]                           \n",
      " 21                  -1  1    493056  ultralytics.nn.modules.block.C2f             [384, 256, 1]                 \n",
      " 22        [15, 18, 21]  1    755212  ultralytics.nn.modules.head.Detect           [20, [64, 128, 256]]          \n",
      "Model summary: 129 layers, 3,014,748 parameters, 3,014,732 gradients, 8.2 GFLOPs\n",
      "\n",
      "Transferred 319/355 items from pretrained weights\n",
      "Freezing layer 'model.22.dfl.conv.weight'\n",
      "\u001B[34m\u001B[1mAMP: \u001B[0mrunning Automatic Mixed Precision (AMP) checks...\n",
      "\u001B[34m\u001B[1mAMP: \u001B[0mchecks passed ✅\n",
      "\u001B[34m\u001B[1mtrain: \u001B[0mFast image access ✅ (ping: 0.0±0.0 ms, read: 1275.4±751.9 MB/s, size: 31.1 KB)\n"
     ]
    },
    {
     "metadata": {
      "tags": null
     },
     "name": "stderr",
     "output_type": "stream",
     "text": [
      "\u001B[34m\u001B[1mtrain: \u001B[0mScanning /content/datasets/VOC/train/labels.cache... 5717 images, 0 backgrounds, 0 corrupt: 100%|██████████| 5717/5717 [00:00<?, ?it/s]\n"
     ]
    },
    {
     "metadata": {
      "tags": null
     },
     "name": "stdout",
     "output_type": "stream",
     "text": [
      "\u001B[34m\u001B[1malbumentations: \u001B[0mBlur(p=0.01, blur_limit=(3, 7)), MedianBlur(p=0.01, blur_limit=(3, 7)), ToGray(p=0.01, method='weighted_average', num_output_channels=3), CLAHE(p=0.01, clip_limit=(1.0, 4.0), tile_grid_size=(8, 8))\n",
      "\u001B[34m\u001B[1mval: \u001B[0mFast image access ✅ (ping: 1.3±3.0 ms, read: 452.0±221.2 MB/s, size: 31.9 KB)\n"
     ]
    },
    {
     "metadata": {
      "tags": null
     },
     "name": "stderr",
     "output_type": "stream",
     "text": [
      "\u001B[34m\u001B[1mval: \u001B[0mScanning /content/datasets/VOC/val/labels.cache... 5823 images, 0 backgrounds, 0 corrupt: 100%|██████████| 5823/5823 [00:00<?, ?it/s]\n"
     ]
    },
    {
     "metadata": {
      "tags": null
     },
     "name": "stdout",
     "output_type": "stream",
     "text": [
      "Plotting labels to runs/detect/tuning_lr0.01_b16/labels.jpg... \n",
      "\u001B[34m\u001B[1moptimizer:\u001B[0m 'optimizer=auto' found, ignoring 'lr0=0.01' and 'momentum=0.937' and determining best 'optimizer', 'lr0' and 'momentum' automatically... \n",
      "\u001B[34m\u001B[1moptimizer:\u001B[0m AdamW(lr=0.000417, momentum=0.9) with parameter groups 57 weight(decay=0.0), 64 weight(decay=0.0005), 63 bias(decay=0.0)\n",
      "Image sizes 640 train, 640 val\n",
      "Using 2 dataloader workers\n",
      "Logging results to \u001B[1mruns/detect/tuning_lr0.01_b16\u001B[0m\n",
      "Starting training for 5 epochs...\n",
      "\n",
      "      Epoch    GPU_mem   box_loss   cls_loss   dfl_loss  Instances       Size\n"
     ]
    },
    {
     "metadata": {
      "tags": null
     },
     "name": "stderr",
     "output_type": "stream",
     "text": [
      "        1/5      2.46G      1.026      2.808       1.29         28        640: 100%|██████████| 358/358 [01:42<00:00,  3.50it/s]\n",
      "                 Class     Images  Instances      Box(P          R      mAP50  mAP50-95): 100%|██████████| 182/182 [00:45<00:00,  3.97it/s]\n"
     ]
    },
    {
     "metadata": {
      "tags": null
     },
     "name": "stdout",
     "output_type": "stream",
     "text": [
      "                   all       5823      15787      0.626      0.564      0.583      0.403\n",
      "\n",
      "      Epoch    GPU_mem   box_loss   cls_loss   dfl_loss  Instances       Size\n"
     ]
    },
    {
     "metadata": {
      "tags": null
     },
     "name": "stderr",
     "output_type": "stream",
     "text": [
      "        2/5      3.57G      1.071      1.957       1.33         31        640: 100%|██████████| 358/358 [01:38<00:00,  3.63it/s]\n",
      "                 Class     Images  Instances      Box(P          R      mAP50  mAP50-95): 100%|██████████| 182/182 [00:44<00:00,  4.12it/s]\n"
     ]
    },
    {
     "metadata": {
      "tags": null
     },
     "name": "stdout",
     "output_type": "stream",
     "text": [
      "                   all       5823      15787      0.652      0.535       0.58      0.391\n",
      "\n",
      "      Epoch    GPU_mem   box_loss   cls_loss   dfl_loss  Instances       Size\n"
     ]
    },
    {
     "metadata": {
      "tags": null
     },
     "name": "stderr",
     "output_type": "stream",
     "text": [
      "        3/5      3.57G      1.068      1.853      1.329         25        640: 100%|██████████| 358/358 [01:36<00:00,  3.70it/s]\n",
      "                 Class     Images  Instances      Box(P          R      mAP50  mAP50-95): 100%|██████████| 182/182 [00:45<00:00,  3.97it/s]\n"
     ]
    },
    {
     "metadata": {
      "tags": null
     },
     "name": "stdout",
     "output_type": "stream",
     "text": [
      "                   all       5823      15787      0.644      0.561        0.6      0.415\n",
      "\n",
      "      Epoch    GPU_mem   box_loss   cls_loss   dfl_loss  Instances       Size\n"
     ]
    },
    {
     "metadata": {
      "tags": null
     },
     "name": "stderr",
     "output_type": "stream",
     "text": [
      "        4/5      3.57G       1.03       1.72        1.3         21        640: 100%|██████████| 358/358 [01:38<00:00,  3.62it/s]\n",
      "                 Class     Images  Instances      Box(P          R      mAP50  mAP50-95): 100%|██████████| 182/182 [00:43<00:00,  4.18it/s]\n"
     ]
    },
    {
     "metadata": {
      "tags": null
     },
     "name": "stdout",
     "output_type": "stream",
     "text": [
      "                   all       5823      15787      0.707      0.597      0.657      0.459\n",
      "\n",
      "      Epoch    GPU_mem   box_loss   cls_loss   dfl_loss  Instances       Size\n"
     ]
    },
    {
     "metadata": {
      "tags": null
     },
     "name": "stderr",
     "output_type": "stream",
     "text": [
      "        5/5      3.57G     0.9864      1.595      1.265         28        640: 100%|██████████| 358/358 [01:37<00:00,  3.67it/s]\n",
      "                 Class     Images  Instances      Box(P          R      mAP50  mAP50-95): 100%|██████████| 182/182 [00:42<00:00,  4.24it/s]\n"
     ]
    },
    {
     "metadata": {
      "tags": null
     },
     "name": "stdout",
     "output_type": "stream",
     "text": [
      "                   all       5823      15787      0.748      0.631      0.701        0.5\n",
      "\n",
      "5 epochs completed in 0.202 hours.\n",
      "Optimizer stripped from runs/detect/tuning_lr0.01_b16/weights/last.pt, 6.2MB\n",
      "Optimizer stripped from runs/detect/tuning_lr0.01_b16/weights/best.pt, 6.2MB\n",
      "\n",
      "Validating runs/detect/tuning_lr0.01_b16/weights/best.pt...\n",
      "Ultralytics 8.3.146 🚀 Python-3.11.12 torch-2.6.0+cu124 CUDA:0 (Tesla T4, 15095MiB)\n",
      "Model summary (fused): 72 layers, 3,009,548 parameters, 0 gradients, 8.1 GFLOPs\n"
     ]
    },
    {
     "metadata": {
      "tags": null
     },
     "name": "stderr",
     "output_type": "stream",
     "text": [
      "                 Class     Images  Instances      Box(P          R      mAP50  mAP50-95): 100%|██████████| 182/182 [00:49<00:00,  3.67it/s]\n"
     ]
    },
    {
     "metadata": {
      "tags": null
     },
     "name": "stdout",
     "output_type": "stream",
     "text": [
      "                   all       5823      15787      0.751      0.629      0.701        0.5\n",
      "             aeroplane        348        484      0.801      0.705      0.757      0.559\n",
      "               bicycle        290        380      0.853      0.657      0.754      0.563\n",
      "                  bird        374        629      0.718      0.617      0.659      0.461\n",
      "                  boat        252        491      0.627      0.442      0.522      0.318\n",
      "                bottle        369        733      0.704       0.49      0.553      0.369\n",
      "                   bus        211        320      0.825      0.756      0.797      0.662\n",
      "                   car        608       1173      0.813      0.651      0.746      0.523\n",
      "                   cat        544        618      0.805      0.723      0.807      0.579\n",
      "                 chair        642       1449      0.708      0.397      0.528      0.359\n",
      "                   cow        154        347      0.641      0.709      0.728      0.512\n",
      "           diningtable        323        374      0.668      0.577      0.625      0.415\n",
      "                   dog        661        773      0.671      0.797      0.779      0.582\n",
      "                 horse        245        373      0.854      0.735      0.825      0.611\n",
      "             motorbike        262        376      0.757      0.745      0.774      0.517\n",
      "                person       2232       5110      0.808      0.762      0.834       0.58\n",
      "           pottedplant        279        542      0.681      0.339      0.468      0.279\n",
      "                 sheep        155        485      0.794       0.66      0.733      0.547\n",
      "                  sofa        336        387      0.687      0.517      0.639      0.466\n",
      "                 train        275        329      0.761      0.772      0.806      0.601\n",
      "             tvmonitor        296        414      0.852      0.527      0.676      0.495\n",
      "Speed: 0.2ms preprocess, 1.8ms inference, 0.0ms loss, 1.7ms postprocess per image\n",
      "Results saved to \u001B[1mruns/detect/tuning_lr0.01_b16\u001B[0m\n",
      "Ultralytics 8.3.146 🚀 Python-3.11.12 torch-2.6.0+cu124 CUDA:0 (Tesla T4, 15095MiB)\n",
      "Model summary (fused): 72 layers, 3,009,548 parameters, 0 gradients, 8.1 GFLOPs\n",
      "\u001B[34m\u001B[1mval: \u001B[0mFast image access ✅ (ping: 0.0±0.0 ms, read: 1320.7±619.8 MB/s, size: 39.6 KB)\n"
     ]
    },
    {
     "metadata": {
      "tags": null
     },
     "name": "stderr",
     "output_type": "stream",
     "text": [
      "\u001B[34m\u001B[1mval: \u001B[0mScanning /content/datasets/VOC/val/labels.cache... 5823 images, 0 backgrounds, 0 corrupt: 100%|██████████| 5823/5823 [00:00<?, ?it/s]\n",
      "                 Class     Images  Instances      Box(P          R      mAP50  mAP50-95): 100%|██████████| 364/364 [00:49<00:00,  7.41it/s]\n"
     ]
    },
    {
     "metadata": {
      "tags": null
     },
     "name": "stdout",
     "output_type": "stream",
     "text": [
      "                   all       5823      15787      0.749      0.629      0.701        0.5\n",
      "             aeroplane        348        484      0.792      0.705      0.757      0.559\n",
      "               bicycle        290        380      0.853      0.655      0.755      0.561\n",
      "                  bird        374        629      0.715      0.614       0.66      0.461\n",
      "                  boat        252        491      0.618       0.44      0.519      0.318\n",
      "                bottle        369        733      0.704       0.49      0.554      0.368\n",
      "                   bus        211        320      0.825      0.756      0.798      0.663\n",
      "                   car        608       1173      0.812      0.651      0.748      0.523\n",
      "                   cat        544        618      0.799      0.728      0.807      0.579\n",
      "                 chair        642       1449      0.708        0.4      0.528      0.359\n",
      "                   cow        154        347      0.642      0.708      0.729      0.511\n",
      "           diningtable        323        374      0.671       0.58      0.626      0.416\n",
      "                   dog        661        773      0.667      0.794      0.777       0.58\n",
      "                 horse        245        373      0.848      0.735      0.824      0.611\n",
      "             motorbike        262        376      0.757      0.745      0.775      0.519\n",
      "                person       2232       5110      0.807      0.762      0.834       0.58\n",
      "           pottedplant        279        542      0.682      0.339      0.468      0.278\n",
      "                 sheep        155        485      0.789      0.662      0.733      0.547\n",
      "                  sofa        336        387      0.688      0.519      0.638      0.465\n",
      "                 train        275        329      0.761      0.769      0.806      0.598\n",
      "             tvmonitor        296        414      0.852      0.527      0.677      0.497\n",
      "Speed: 0.2ms preprocess, 2.6ms inference, 0.0ms loss, 1.3ms postprocess per image\n",
      "Results saved to \u001B[1mruns/detect/tuning_lr0.01_b162\u001B[0m\n",
      "Optimal configuration: LR=0.001, Batch=16.0\n",
      "Starting final training with optimal hyperparameters...\n",
      "Ultralytics 8.3.146 🚀 Python-3.11.12 torch-2.6.0+cu124 CUDA:0 (Tesla T4, 15095MiB)\n",
      "\u001B[34m\u001B[1mengine/trainer: \u001B[0magnostic_nms=False, amp=True, augment=False, auto_augment=randaugment, batch=16, bgr=0.0, box=7.5, cache=False, cfg=None, classes=None, close_mosaic=10, cls=0.5, conf=None, copy_paste=0.0, copy_paste_mode=flip, cos_lr=False, cutmix=0.0, data=/content/datasets/dataset_config.yaml, degrees=0.0, deterministic=True, device=0, dfl=1.5, dnn=False, dropout=0.0, dynamic=False, embed=None, epochs=30, erasing=0.4, exist_ok=False, fliplr=0.5, flipud=0.0, format=torchscript, fraction=1.0, freeze=None, half=False, hsv_h=0.015, hsv_s=0.7, hsv_v=0.4, imgsz=640, int8=False, iou=0.7, keras=False, kobj=1.0, line_width=None, lr0=0.001, lrf=0.01, mask_ratio=4, max_det=300, mixup=0.0, mode=train, model=yolov8n.pt, momentum=0.937, mosaic=1.0, multi_scale=False, name=yolov8_voc_optimized, nbs=64, nms=False, opset=None, optimize=False, optimizer=auto, overlap_mask=True, patience=100, perspective=0.0, plots=True, pose=12.0, pretrained=True, profile=False, project=None, rect=False, resume=False, retina_masks=False, save=True, save_conf=False, save_crop=False, save_dir=runs/detect/yolov8_voc_optimized, save_frames=False, save_json=False, save_period=-1, save_txt=False, scale=0.5, seed=0, shear=0.0, show=False, show_boxes=True, show_conf=True, show_labels=True, simplify=True, single_cls=False, source=None, split=val, stream_buffer=False, task=detect, time=None, tracker=botsort.yaml, translate=0.1, val=True, verbose=True, vid_stride=1, visualize=False, warmup_bias_lr=0.1, warmup_epochs=3.0, warmup_momentum=0.8, weight_decay=0.0005, workers=8, workspace=None\n",
      "Overriding model.yaml nc=80 with nc=20\n",
      "\n",
      "                   from  n    params  module                                       arguments                     \n",
      "  0                  -1  1       464  ultralytics.nn.modules.conv.Conv             [3, 16, 3, 2]                 \n",
      "  1                  -1  1      4672  ultralytics.nn.modules.conv.Conv             [16, 32, 3, 2]                \n",
      "  2                  -1  1      7360  ultralytics.nn.modules.block.C2f             [32, 32, 1, True]             \n",
      "  3                  -1  1     18560  ultralytics.nn.modules.conv.Conv             [32, 64, 3, 2]                \n",
      "  4                  -1  2     49664  ultralytics.nn.modules.block.C2f             [64, 64, 2, True]             \n",
      "  5                  -1  1     73984  ultralytics.nn.modules.conv.Conv             [64, 128, 3, 2]               \n",
      "  6                  -1  2    197632  ultralytics.nn.modules.block.C2f             [128, 128, 2, True]           \n",
      "  7                  -1  1    295424  ultralytics.nn.modules.conv.Conv             [128, 256, 3, 2]              \n",
      "  8                  -1  1    460288  ultralytics.nn.modules.block.C2f             [256, 256, 1, True]           \n",
      "  9                  -1  1    164608  ultralytics.nn.modules.block.SPPF            [256, 256, 5]                 \n",
      " 10                  -1  1         0  torch.nn.modules.upsampling.Upsample         [None, 2, 'nearest']          \n",
      " 11             [-1, 6]  1         0  ultralytics.nn.modules.conv.Concat           [1]                           \n",
      " 12                  -1  1    148224  ultralytics.nn.modules.block.C2f             [384, 128, 1]                 \n",
      " 13                  -1  1         0  torch.nn.modules.upsampling.Upsample         [None, 2, 'nearest']          \n",
      " 14             [-1, 4]  1         0  ultralytics.nn.modules.conv.Concat           [1]                           \n",
      " 15                  -1  1     37248  ultralytics.nn.modules.block.C2f             [192, 64, 1]                  \n",
      " 16                  -1  1     36992  ultralytics.nn.modules.conv.Conv             [64, 64, 3, 2]                \n",
      " 17            [-1, 12]  1         0  ultralytics.nn.modules.conv.Concat           [1]                           \n",
      " 18                  -1  1    123648  ultralytics.nn.modules.block.C2f             [192, 128, 1]                 \n",
      " 19                  -1  1    147712  ultralytics.nn.modules.conv.Conv             [128, 128, 3, 2]              \n",
      " 20             [-1, 9]  1         0  ultralytics.nn.modules.conv.Concat           [1]                           \n",
      " 21                  -1  1    493056  ultralytics.nn.modules.block.C2f             [384, 256, 1]                 \n",
      " 22        [15, 18, 21]  1    755212  ultralytics.nn.modules.head.Detect           [20, [64, 128, 256]]          \n",
      "Model summary: 129 layers, 3,014,748 parameters, 3,014,732 gradients, 8.2 GFLOPs\n",
      "\n",
      "Transferred 319/355 items from pretrained weights\n",
      "Freezing layer 'model.22.dfl.conv.weight'\n",
      "\u001B[34m\u001B[1mAMP: \u001B[0mrunning Automatic Mixed Precision (AMP) checks...\n",
      "\u001B[34m\u001B[1mAMP: \u001B[0mchecks passed ✅\n",
      "\u001B[34m\u001B[1mtrain: \u001B[0mFast image access ✅ (ping: 0.0±0.0 ms, read: 1143.0±490.6 MB/s, size: 31.1 KB)\n"
     ]
    },
    {
     "metadata": {
      "tags": null
     },
     "name": "stderr",
     "output_type": "stream",
     "text": [
      "\u001B[34m\u001B[1mtrain: \u001B[0mScanning /content/datasets/VOC/train/labels.cache... 5717 images, 0 backgrounds, 0 corrupt: 100%|██████████| 5717/5717 [00:00<?, ?it/s]"
     ]
    },
    {
     "metadata": {
      "tags": null
     },
     "name": "stdout",
     "output_type": "stream",
     "text": [
      "\u001B[34m\u001B[1malbumentations: \u001B[0mBlur(p=0.01, blur_limit=(3, 7)), MedianBlur(p=0.01, blur_limit=(3, 7)), ToGray(p=0.01, method='weighted_average', num_output_channels=3), CLAHE(p=0.01, clip_limit=(1.0, 4.0), tile_grid_size=(8, 8))\n"
     ]
    },
    {
     "metadata": {
      "tags": null
     },
     "name": "stderr",
     "output_type": "stream",
     "text": [
      "\n"
     ]
    },
    {
     "metadata": {
      "tags": null
     },
     "name": "stdout",
     "output_type": "stream",
     "text": [
      "\u001B[34m\u001B[1mval: \u001B[0mFast image access ✅ (ping: 0.0±0.0 ms, read: 574.8±411.4 MB/s, size: 31.9 KB)\n"
     ]
    },
    {
     "metadata": {
      "tags": null
     },
     "name": "stderr",
     "output_type": "stream",
     "text": [
      "\u001B[34m\u001B[1mval: \u001B[0mScanning /content/datasets/VOC/val/labels.cache... 5823 images, 0 backgrounds, 0 corrupt: 100%|██████████| 5823/5823 [00:00<?, ?it/s]\n"
     ]
    },
    {
     "metadata": {
      "tags": null
     },
     "name": "stdout",
     "output_type": "stream",
     "text": [
      "Plotting labels to runs/detect/yolov8_voc_optimized/labels.jpg... \n",
      "\u001B[34m\u001B[1moptimizer:\u001B[0m 'optimizer=auto' found, ignoring 'lr0=0.001' and 'momentum=0.937' and determining best 'optimizer', 'lr0' and 'momentum' automatically... \n",
      "\u001B[34m\u001B[1moptimizer:\u001B[0m AdamW(lr=0.000417, momentum=0.9) with parameter groups 57 weight(decay=0.0), 64 weight(decay=0.0005), 63 bias(decay=0.0)\n",
      "Image sizes 640 train, 640 val\n",
      "Using 2 dataloader workers\n",
      "Logging results to \u001B[1mruns/detect/yolov8_voc_optimized\u001B[0m\n",
      "Starting training for 30 epochs...\n",
      "\n",
      "      Epoch    GPU_mem   box_loss   cls_loss   dfl_loss  Instances       Size\n"
     ]
    },
    {
     "metadata": {
      "tags": null
     },
     "name": "stderr",
     "output_type": "stream",
     "text": [
      "       1/30      2.18G      1.026      2.808       1.29         28        640: 100%|██████████| 358/358 [01:40<00:00,  3.56it/s]\n",
      "                 Class     Images  Instances      Box(P          R      mAP50  mAP50-95): 100%|██████████| 182/182 [00:43<00:00,  4.19it/s]\n"
     ]
    },
    {
     "metadata": {
      "tags": null
     },
     "name": "stdout",
     "output_type": "stream",
     "text": [
      "                   all       5823      15787      0.626      0.564      0.583      0.403\n",
      "\n",
      "      Epoch    GPU_mem   box_loss   cls_loss   dfl_loss  Instances       Size\n"
     ]
    },
    {
     "metadata": {
      "tags": null
     },
     "name": "stderr",
     "output_type": "stream",
     "text": [
      "       2/30      3.09G      1.082      1.995      1.343         31        640: 100%|██████████| 358/358 [01:39<00:00,  3.62it/s]\n",
      "                 Class     Images  Instances      Box(P          R      mAP50  mAP50-95): 100%|██████████| 182/182 [00:44<00:00,  4.09it/s]\n"
     ]
    },
    {
     "metadata": {
      "tags": null
     },
     "name": "stdout",
     "output_type": "stream",
     "text": [
      "                   all       5823      15787       0.62       0.53      0.564      0.378\n",
      "\n",
      "      Epoch    GPU_mem   box_loss   cls_loss   dfl_loss  Instances       Size\n"
     ]
    },
    {
     "metadata": {
      "tags": null
     },
     "name": "stderr",
     "output_type": "stream",
     "text": [
      "       3/30      3.09G      1.116      1.953      1.364         25        640: 100%|██████████| 358/358 [01:37<00:00,  3.68it/s]\n",
      "                 Class     Images  Instances      Box(P          R      mAP50  mAP50-95): 100%|██████████| 182/182 [00:43<00:00,  4.17it/s]\n"
     ]
    },
    {
     "metadata": {
      "tags": null
     },
     "name": "stdout",
     "output_type": "stream",
     "text": [
      "                   all       5823      15787      0.577      0.497      0.518       0.33\n",
      "\n",
      "      Epoch    GPU_mem   box_loss   cls_loss   dfl_loss  Instances       Size\n"
     ]
    },
    {
     "metadata": {
      "tags": null
     },
     "name": "stderr",
     "output_type": "stream",
     "text": [
      "       4/30      3.09G      1.114      1.875      1.359         21        640: 100%|██████████| 358/358 [01:35<00:00,  3.73it/s]\n",
      "                 Class     Images  Instances      Box(P          R      mAP50  mAP50-95): 100%|██████████| 182/182 [00:42<00:00,  4.25it/s]\n"
     ]
    },
    {
     "metadata": {
      "tags": null
     },
     "name": "stdout",
     "output_type": "stream",
     "text": [
      "                   all       5823      15787      0.605      0.498      0.534      0.354\n",
      "\n",
      "      Epoch    GPU_mem   box_loss   cls_loss   dfl_loss  Instances       Size\n"
     ]
    },
    {
     "output_type": "stream",
     "name": "stderr",
     "text": [
      "       5/30       3.1G      1.105      1.815      1.352         28        640: 100%|██████████| 358/358 [01:35<00:00,  3.74it/s]\n",
      "                 Class     Images  Instances      Box(P          R      mAP50  mAP50-95): 100%|██████████| 182/182 [00:46<00:00,  3.91it/s]\n"
     ]
    },
    {
     "output_type": "stream",
     "name": "stdout",
     "text": [
      "                   all       5823      15787      0.628      0.529      0.565      0.369\n",
      "\n",
      "      Epoch    GPU_mem   box_loss   cls_loss   dfl_loss  Instances       Size\n"
     ]
    },
    {
     "output_type": "stream",
     "name": "stderr",
     "text": [
      "       6/30       3.1G      1.089      1.722      1.342         21        640: 100%|██████████| 358/358 [01:34<00:00,  3.77it/s]\n",
      "                 Class     Images  Instances      Box(P          R      mAP50  mAP50-95): 100%|██████████| 182/182 [00:44<00:00,  4.08it/s]\n"
     ]
    },
    {
     "output_type": "stream",
     "name": "stdout",
     "text": [
      "                   all       5823      15787      0.658      0.552       0.59      0.389\n",
      "\n",
      "      Epoch    GPU_mem   box_loss   cls_loss   dfl_loss  Instances       Size\n"
     ]
    },
    {
     "output_type": "stream",
     "name": "stderr",
     "text": [
      "       7/30       3.1G      1.073      1.661      1.328         35        640: 100%|██████████| 358/358 [01:35<00:00,  3.74it/s]\n",
      "                 Class     Images  Instances      Box(P          R      mAP50  mAP50-95): 100%|██████████| 182/182 [00:44<00:00,  4.12it/s]\n"
     ]
    },
    {
     "output_type": "stream",
     "name": "stdout",
     "text": [
      "                   all       5823      15787      0.672      0.559      0.604      0.406\n",
      "\n",
      "      Epoch    GPU_mem   box_loss   cls_loss   dfl_loss  Instances       Size\n"
     ]
    },
    {
     "output_type": "stream",
     "name": "stderr",
     "text": [
      "       8/30       3.1G      1.064       1.59       1.32         28        640: 100%|██████████| 358/358 [01:38<00:00,  3.64it/s]\n",
      "                 Class     Images  Instances      Box(P          R      mAP50  mAP50-95): 100%|██████████| 182/182 [00:43<00:00,  4.20it/s]\n"
     ]
    },
    {
     "output_type": "stream",
     "name": "stdout",
     "text": [
      "                   all       5823      15787       0.69      0.573      0.623      0.421\n",
      "\n",
      "      Epoch    GPU_mem   box_loss   cls_loss   dfl_loss  Instances       Size\n"
     ]
    },
    {
     "output_type": "stream",
     "name": "stderr",
     "text": [
      "       9/30       3.1G      1.039      1.534      1.308         45        640: 100%|██████████| 358/358 [01:39<00:00,  3.58it/s]\n",
      "                 Class     Images  Instances      Box(P          R      mAP50  mAP50-95): 100%|██████████| 182/182 [00:44<00:00,  4.07it/s]\n"
     ]
    },
    {
     "output_type": "stream",
     "name": "stdout",
     "text": [
      "                   all       5823      15787      0.681      0.556      0.616      0.413\n",
      "\n",
      "      Epoch    GPU_mem   box_loss   cls_loss   dfl_loss  Instances       Size\n"
     ]
    },
    {
     "output_type": "stream",
     "name": "stderr",
     "text": [
      "      10/30       3.1G      1.031      1.504      1.296         24        640: 100%|██████████| 358/358 [01:40<00:00,  3.56it/s]\n",
      "                 Class     Images  Instances      Box(P          R      mAP50  mAP50-95): 100%|██████████| 182/182 [00:45<00:00,  3.96it/s]\n"
     ]
    },
    {
     "output_type": "stream",
     "name": "stdout",
     "text": [
      "                   all       5823      15787      0.706      0.559      0.627      0.432\n",
      "\n",
      "      Epoch    GPU_mem   box_loss   cls_loss   dfl_loss  Instances       Size\n"
     ]
    },
    {
     "output_type": "stream",
     "name": "stderr",
     "text": [
      "      11/30       3.1G      1.018      1.454      1.291         32        640: 100%|██████████| 358/358 [01:44<00:00,  3.44it/s]\n",
      "                 Class     Images  Instances      Box(P          R      mAP50  mAP50-95): 100%|██████████| 182/182 [00:44<00:00,  4.06it/s]\n"
     ]
    },
    {
     "output_type": "stream",
     "name": "stdout",
     "text": [
      "                   all       5823      15787      0.711      0.574      0.642      0.444\n",
      "\n",
      "      Epoch    GPU_mem   box_loss   cls_loss   dfl_loss  Instances       Size\n"
     ]
    },
    {
     "output_type": "stream",
     "name": "stderr",
     "text": [
      "      12/30       3.1G      1.003      1.428      1.284         17        640: 100%|██████████| 358/358 [01:41<00:00,  3.53it/s]\n",
      "                 Class     Images  Instances      Box(P          R      mAP50  mAP50-95): 100%|██████████| 182/182 [00:43<00:00,  4.16it/s]\n"
     ]
    },
    {
     "output_type": "stream",
     "name": "stdout",
     "text": [
      "                   all       5823      15787      0.712      0.572      0.644      0.437\n",
      "\n",
      "      Epoch    GPU_mem   box_loss   cls_loss   dfl_loss  Instances       Size\n"
     ]
    },
    {
     "output_type": "stream",
     "name": "stderr",
     "text": [
      "      13/30       3.1G     0.9989      1.378      1.271         41        640: 100%|██████████| 358/358 [01:39<00:00,  3.59it/s]\n",
      "                 Class     Images  Instances      Box(P          R      mAP50  mAP50-95): 100%|██████████| 182/182 [00:45<00:00,  4.04it/s]\n"
     ]
    },
    {
     "output_type": "stream",
     "name": "stdout",
     "text": [
      "                   all       5823      15787      0.717      0.591      0.655      0.455\n",
      "\n",
      "      Epoch    GPU_mem   box_loss   cls_loss   dfl_loss  Instances       Size\n"
     ]
    },
    {
     "output_type": "stream",
     "name": "stderr",
     "text": [
      "      14/30       3.1G     0.9859      1.351      1.268         24        640: 100%|██████████| 358/358 [01:38<00:00,  3.63it/s]\n",
      "                 Class     Images  Instances      Box(P          R      mAP50  mAP50-95): 100%|██████████| 182/182 [00:46<00:00,  3.95it/s]\n"
     ]
    },
    {
     "output_type": "stream",
     "name": "stdout",
     "text": [
      "                   all       5823      15787      0.715      0.591      0.659       0.46\n",
      "\n",
      "      Epoch    GPU_mem   box_loss   cls_loss   dfl_loss  Instances       Size\n"
     ]
    },
    {
     "output_type": "stream",
     "name": "stderr",
     "text": [
      "      15/30       3.1G     0.9828      1.324      1.265         25        640: 100%|██████████| 358/358 [01:41<00:00,  3.54it/s]\n",
      "                 Class     Images  Instances      Box(P          R      mAP50  mAP50-95): 100%|██████████| 182/182 [00:43<00:00,  4.23it/s]\n"
     ]
    },
    {
     "output_type": "stream",
     "name": "stdout",
     "text": [
      "                   all       5823      15787      0.729      0.604      0.672      0.467\n",
      "\n",
      "      Epoch    GPU_mem   box_loss   cls_loss   dfl_loss  Instances       Size\n"
     ]
    },
    {
     "output_type": "stream",
     "name": "stderr",
     "text": [
      "      16/30       3.1G     0.9685      1.294      1.256         22        640: 100%|██████████| 358/358 [01:38<00:00,  3.62it/s]\n",
      "                 Class     Images  Instances      Box(P          R      mAP50  mAP50-95): 100%|██████████| 182/182 [00:42<00:00,  4.24it/s]\n"
     ]
    },
    {
     "output_type": "stream",
     "name": "stdout",
     "text": [
      "                   all       5823      15787      0.739      0.599      0.671      0.469\n",
      "\n",
      "      Epoch    GPU_mem   box_loss   cls_loss   dfl_loss  Instances       Size\n"
     ]
    },
    {
     "output_type": "stream",
     "name": "stderr",
     "text": [
      "      17/30       3.1G     0.9549      1.259       1.24         25        640: 100%|██████████| 358/358 [01:40<00:00,  3.57it/s]\n",
      "                 Class     Images  Instances      Box(P          R      mAP50  mAP50-95): 100%|██████████| 182/182 [00:43<00:00,  4.23it/s]\n"
     ]
    },
    {
     "output_type": "stream",
     "name": "stdout",
     "text": [
      "                   all       5823      15787      0.739      0.607      0.679      0.476\n",
      "\n",
      "      Epoch    GPU_mem   box_loss   cls_loss   dfl_loss  Instances       Size\n"
     ]
    },
    {
     "output_type": "stream",
     "name": "stderr",
     "text": [
      "      18/30       3.1G     0.9447      1.235      1.236         24        640: 100%|██████████| 358/358 [01:38<00:00,  3.65it/s]\n",
      "                 Class     Images  Instances      Box(P          R      mAP50  mAP50-95): 100%|██████████| 182/182 [00:43<00:00,  4.14it/s]\n"
     ]
    },
    {
     "output_type": "stream",
     "name": "stdout",
     "text": [
      "                   all       5823      15787      0.745      0.612      0.684      0.481\n",
      "\n",
      "      Epoch    GPU_mem   box_loss   cls_loss   dfl_loss  Instances       Size\n"
     ]
    },
    {
     "output_type": "stream",
     "name": "stderr",
     "text": [
      "      19/30       3.1G     0.9334      1.201      1.225         40        640: 100%|██████████| 358/358 [01:39<00:00,  3.61it/s]\n",
      "                 Class     Images  Instances      Box(P          R      mAP50  mAP50-95): 100%|██████████| 182/182 [00:44<00:00,  4.12it/s]\n"
     ]
    },
    {
     "output_type": "stream",
     "name": "stdout",
     "text": [
      "                   all       5823      15787      0.749       0.61      0.685      0.481\n",
      "\n",
      "      Epoch    GPU_mem   box_loss   cls_loss   dfl_loss  Instances       Size\n"
     ]
    },
    {
     "output_type": "stream",
     "name": "stderr",
     "text": [
      "      20/30       3.1G     0.9387      1.191      1.227         45        640: 100%|██████████| 358/358 [01:39<00:00,  3.60it/s]\n",
      "                 Class     Images  Instances      Box(P          R      mAP50  mAP50-95): 100%|██████████| 182/182 [00:43<00:00,  4.22it/s]\n"
     ]
    },
    {
     "output_type": "stream",
     "name": "stdout",
     "text": [
      "                   all       5823      15787       0.75      0.622      0.691      0.489\n",
      "Closing dataloader mosaic\n",
      "\u001B[34m\u001B[1malbumentations: \u001B[0mBlur(p=0.01, blur_limit=(3, 7)), MedianBlur(p=0.01, blur_limit=(3, 7)), ToGray(p=0.01, method='weighted_average', num_output_channels=3), CLAHE(p=0.01, clip_limit=(1.0, 4.0), tile_grid_size=(8, 8))\n",
      "\n",
      "      Epoch    GPU_mem   box_loss   cls_loss   dfl_loss  Instances       Size\n"
     ]
    },
    {
     "output_type": "stream",
     "name": "stderr",
     "text": [
      "      21/30       3.1G     0.9332        1.1      1.223         14        640: 100%|██████████| 358/358 [01:35<00:00,  3.77it/s]\n",
      "                 Class     Images  Instances      Box(P          R      mAP50  mAP50-95): 100%|██████████| 182/182 [00:41<00:00,  4.37it/s]\n"
     ]
    },
    {
     "output_type": "stream",
     "name": "stdout",
     "text": [
      "                   all       5823      15787      0.748      0.618      0.687      0.486\n",
      "\n",
      "      Epoch    GPU_mem   box_loss   cls_loss   dfl_loss  Instances       Size\n"
     ]
    },
    {
     "output_type": "stream",
     "name": "stderr",
     "text": [
      "      22/30       3.1G     0.8984      1.035      1.202         20        640: 100%|██████████| 358/358 [01:30<00:00,  3.95it/s]\n",
      "                 Class     Images  Instances      Box(P          R      mAP50  mAP50-95): 100%|██████████| 182/182 [00:42<00:00,  4.32it/s]\n"
     ]
    },
    {
     "output_type": "stream",
     "name": "stdout",
     "text": [
      "                   all       5823      15787       0.76      0.616      0.692      0.496\n",
      "\n",
      "      Epoch    GPU_mem   box_loss   cls_loss   dfl_loss  Instances       Size\n"
     ]
    },
    {
     "output_type": "stream",
     "name": "stderr",
     "text": [
      "      23/30       3.1G     0.8846     0.9965      1.191         17        640: 100%|██████████| 358/358 [01:31<00:00,  3.92it/s]\n",
      "                 Class     Images  Instances      Box(P          R      mAP50  mAP50-95): 100%|██████████| 182/182 [00:42<00:00,  4.27it/s]\n"
     ]
    },
    {
     "output_type": "stream",
     "name": "stdout",
     "text": [
      "                   all       5823      15787      0.757      0.627        0.7      0.502\n",
      "\n",
      "      Epoch    GPU_mem   box_loss   cls_loss   dfl_loss  Instances       Size\n"
     ]
    },
    {
     "output_type": "stream",
     "name": "stderr",
     "text": [
      "      24/30       3.1G     0.8628     0.9585      1.168         26        640: 100%|██████████| 358/358 [01:29<00:00,  3.99it/s]\n",
      "                 Class     Images  Instances      Box(P          R      mAP50  mAP50-95): 100%|██████████| 182/182 [00:43<00:00,  4.23it/s]\n"
     ]
    },
    {
     "output_type": "stream",
     "name": "stdout",
     "text": [
      "                   all       5823      15787      0.766      0.629      0.703      0.506\n",
      "\n",
      "      Epoch    GPU_mem   box_loss   cls_loss   dfl_loss  Instances       Size\n"
     ]
    },
    {
     "output_type": "stream",
     "name": "stderr",
     "text": [
      "      25/30       3.1G     0.8575     0.9362      1.168         14        640: 100%|██████████| 358/358 [01:31<00:00,  3.93it/s]\n",
      "                 Class     Images  Instances      Box(P          R      mAP50  mAP50-95): 100%|██████████| 182/182 [00:45<00:00,  4.03it/s]\n"
     ]
    },
    {
     "output_type": "stream",
     "name": "stdout",
     "text": [
      "                   all       5823      15787      0.784      0.626      0.708      0.511\n",
      "\n",
      "      Epoch    GPU_mem   box_loss   cls_loss   dfl_loss  Instances       Size\n"
     ]
    },
    {
     "output_type": "stream",
     "name": "stderr",
     "text": [
      "      26/30       3.1G     0.8412     0.9044       1.16         19        640: 100%|██████████| 358/358 [01:30<00:00,  3.97it/s]\n",
      "                 Class     Images  Instances      Box(P          R      mAP50  mAP50-95): 100%|██████████| 182/182 [00:44<00:00,  4.11it/s]\n"
     ]
    },
    {
     "output_type": "stream",
     "name": "stdout",
     "text": [
      "                   all       5823      15787       0.78      0.634      0.712      0.514\n",
      "\n",
      "      Epoch    GPU_mem   box_loss   cls_loss   dfl_loss  Instances       Size\n"
     ]
    },
    {
     "output_type": "stream",
     "name": "stderr",
     "text": [
      "      27/30       3.1G     0.8237     0.8689      1.145         10        640: 100%|██████████| 358/358 [01:30<00:00,  3.96it/s]\n",
      "                 Class     Images  Instances      Box(P          R      mAP50  mAP50-95): 100%|██████████| 182/182 [00:44<00:00,  4.09it/s]\n"
     ]
    },
    {
     "output_type": "stream",
     "name": "stdout",
     "text": [
      "                   all       5823      15787      0.785      0.635      0.715      0.519\n",
      "\n",
      "      Epoch    GPU_mem   box_loss   cls_loss   dfl_loss  Instances       Size\n"
     ]
    },
    {
     "output_type": "stream",
     "name": "stderr",
     "text": [
      "      28/30       3.1G     0.8227     0.8613      1.141         11        640: 100%|██████████| 358/358 [01:31<00:00,  3.92it/s]\n",
      "                 Class     Images  Instances      Box(P          R      mAP50  mAP50-95): 100%|██████████| 182/182 [00:44<00:00,  4.11it/s]\n"
     ]
    },
    {
     "output_type": "stream",
     "name": "stdout",
     "text": [
      "                   all       5823      15787      0.775      0.637      0.714      0.521\n",
      "\n",
      "      Epoch    GPU_mem   box_loss   cls_loss   dfl_loss  Instances       Size\n"
     ]
    },
    {
     "output_type": "stream",
     "name": "stderr",
     "text": [
      "      29/30       3.1G     0.8156       0.84      1.132         25        640: 100%|██████████| 358/358 [01:39<00:00,  3.61it/s]\n",
      "                 Class     Images  Instances      Box(P          R      mAP50  mAP50-95): 100%|██████████| 182/182 [00:47<00:00,  3.81it/s]\n"
     ]
    },
    {
     "output_type": "stream",
     "name": "stdout",
     "text": [
      "                   all       5823      15787      0.775       0.65       0.72      0.523\n",
      "\n",
      "      Epoch    GPU_mem   box_loss   cls_loss   dfl_loss  Instances       Size\n"
     ]
    },
    {
     "output_type": "stream",
     "name": "stderr",
     "text": [
      "      30/30       3.1G     0.7976     0.8212      1.125         11        640: 100%|██████████| 358/358 [01:34<00:00,  3.80it/s]\n",
      "                 Class     Images  Instances      Box(P          R      mAP50  mAP50-95): 100%|██████████| 182/182 [00:42<00:00,  4.23it/s]\n"
     ]
    },
    {
     "output_type": "stream",
     "name": "stdout",
     "text": [
      "                   all       5823      15787      0.794      0.636      0.722      0.525\n",
      "\n",
      "30 epochs completed in 1.186 hours.\n",
      "Optimizer stripped from runs/detect/yolov8_voc_optimized/weights/last.pt, 6.2MB\n",
      "Optimizer stripped from runs/detect/yolov8_voc_optimized/weights/best.pt, 6.2MB\n",
      "\n",
      "Validating runs/detect/yolov8_voc_optimized/weights/best.pt...\n",
      "Ultralytics 8.3.146 🚀 Python-3.11.12 torch-2.6.0+cu124 CUDA:0 (Tesla T4, 15095MiB)\n",
      "Model summary (fused): 72 layers, 3,009,548 parameters, 0 gradients, 8.1 GFLOPs\n"
     ]
    },
    {
     "output_type": "stream",
     "name": "stderr",
     "text": [
      "                 Class     Images  Instances      Box(P          R      mAP50  mAP50-95): 100%|██████████| 182/182 [00:46<00:00,  3.88it/s]\n"
     ]
    },
    {
     "output_type": "stream",
     "name": "stdout",
     "text": [
      "                   all       5823      15787      0.794      0.636      0.722      0.525\n",
      "             aeroplane        348        484        0.9      0.705      0.805      0.622\n",
      "               bicycle        290        380      0.853      0.689      0.768      0.569\n",
      "                  bird        374        629      0.819      0.568      0.675      0.457\n",
      "                  boat        252        491      0.731      0.456      0.563      0.334\n",
      "                bottle        369        733      0.816      0.461      0.567      0.377\n",
      "                   bus        211        320      0.859      0.761      0.823      0.698\n",
      "                   car        608       1173      0.843       0.64      0.757      0.544\n",
      "                   cat        544        618       0.84       0.78      0.865      0.672\n",
      "                 chair        642       1449      0.697      0.484      0.574      0.391\n",
      "                   cow        154        347      0.742       0.68      0.709      0.495\n",
      "           diningtable        323        374       0.74       0.57      0.641      0.445\n",
      "                   dog        661        773      0.795      0.724      0.806      0.613\n",
      "                 horse        245        373      0.791      0.729      0.818      0.623\n",
      "             motorbike        262        376       0.87      0.726      0.808      0.578\n",
      "                person       2232       5110      0.876      0.732      0.834      0.578\n",
      "           pottedplant        279        542      0.651      0.419      0.506      0.291\n",
      "                 sheep        155        485      0.746      0.635      0.713      0.532\n",
      "                  sofa        336        387      0.637      0.566      0.635       0.48\n",
      "                 train        275        329      0.902      0.757      0.864      0.674\n",
      "             tvmonitor        296        414      0.767      0.628      0.699      0.518\n",
      "Speed: 0.2ms preprocess, 1.7ms inference, 0.0ms loss, 1.5ms postprocess per image\n",
      "Results saved to \u001B[1mruns/detect/yolov8_voc_optimized\u001B[0m\n",
      "Performing standard validation...\n",
      "Ultralytics 8.3.146 🚀 Python-3.11.12 torch-2.6.0+cu124 CUDA:0 (Tesla T4, 15095MiB)\n",
      "Model summary (fused): 72 layers, 3,009,548 parameters, 0 gradients, 8.1 GFLOPs\n",
      "\u001B[34m\u001B[1mval: \u001B[0mFast image access ✅ (ping: 0.0±0.0 ms, read: 1536.0±711.0 MB/s, size: 39.6 KB)\n"
     ]
    },
    {
     "output_type": "stream",
     "name": "stderr",
     "text": [
      "\u001B[34m\u001B[1mval: \u001B[0mScanning /content/datasets/VOC/val/labels.cache... 5823 images, 0 backgrounds, 0 corrupt: 100%|██████████| 5823/5823 [00:00<?, ?it/s]\n",
      "                 Class     Images  Instances      Box(P          R      mAP50  mAP50-95): 100%|██████████| 364/364 [00:49<00:00,  7.39it/s]\n"
     ]
    },
    {
     "output_type": "stream",
     "name": "stdout",
     "text": [
      "                   all       5823      15787      0.794      0.635      0.722      0.525\n",
      "             aeroplane        348        484        0.9      0.705      0.805      0.623\n",
      "               bicycle        290        380      0.854      0.689      0.768       0.57\n",
      "                  bird        374        629      0.818      0.569      0.675      0.457\n",
      "                  boat        252        491      0.732      0.456      0.563      0.334\n",
      "                bottle        369        733      0.815      0.464      0.568      0.377\n",
      "                   bus        211        320      0.855      0.758      0.822      0.698\n",
      "                   car        608       1173      0.844      0.639      0.757      0.544\n",
      "                   cat        544        618      0.836      0.773      0.864      0.672\n",
      "                 chair        642       1449      0.697      0.484      0.574      0.392\n",
      "                   cow        154        347      0.742       0.68      0.712      0.498\n",
      "           diningtable        323        374       0.74       0.57      0.642      0.446\n",
      "                   dog        661        773      0.795      0.724      0.806      0.611\n",
      "                 horse        245        373      0.793      0.727       0.82      0.623\n",
      "             motorbike        262        376       0.87      0.726      0.808      0.577\n",
      "                person       2232       5110      0.876      0.732      0.835      0.579\n",
      "           pottedplant        279        542      0.655      0.421      0.508      0.292\n",
      "                 sheep        155        485      0.746      0.637      0.714      0.533\n",
      "                  sofa        336        387      0.639      0.568      0.637      0.481\n",
      "                 train        275        329        0.9      0.757      0.864      0.674\n",
      "             tvmonitor        296        414      0.771      0.628        0.7      0.518\n",
      "Speed: 0.2ms preprocess, 2.7ms inference, 0.0ms loss, 1.2ms postprocess per image\n",
      "Results saved to \u001B[1mruns/detect/yolov8_voc_optimized2\u001B[0m\n",
      "Standard mAP@0.5: 0.7220\n",
      "Standard mAP@0.5:0.95: 0.5250\n",
      "Calculating accuracy metrics...\n",
      "Calculating accuracy metrics on 200 samples...\n",
      "Evaluating Validation accuracy...\n",
      "Validation Results:\n",
      "  Classification Accuracy: 0.7200\n",
      "  Detection Accuracy: 0.8550\n",
      "  Object Detection Accuracy: 0.7505\n",
      "Evaluating Training accuracy...\n",
      "Training Results:\n",
      "  Classification Accuracy: 0.7400\n",
      "  Detection Accuracy: 0.8900\n",
      "  Object Detection Accuracy: 0.7289\n",
      "\n",
      "============================================================\n",
      "ACCURACY EVALUATION RESULTS\n",
      "============================================================\n",
      "Training Accuracy:\n",
      "  Classification Accuracy: 0.7400\n",
      "  Detection Accuracy: 0.8900\n",
      "  Object Detection Accuracy: 0.7289\n",
      "\n",
      "Validation Accuracy:\n",
      "  Classification Accuracy: 0.7200\n",
      "  Detection Accuracy: 0.8550\n",
      "  Object Detection Accuracy: 0.7505\n",
      "============================================================\n",
      "Training progression plots saved to training_progression.png\n",
      "Accuracy plotting skipped as requested\n",
      "Trained model saved to yolov8_voc_trained.pt\n"
     ]
    },
    {
     "output_type": "display_data",
     "data": {
      "text/plain": [
       "<Figure size 1600x1000 with 4 Axes>"
      ],
      "image/png": "[encoded data removed]"
     },
     "metadata": {}
    }
   ]
  },
  {
   "cell_type": "code",
   "source": [
    "import argparse\n",
    "import cv2\n",
    "import time\n",
    "from ultralytics import YOLO\n",
    "\n",
    "def parse_demo_args():\n",
    "    \"\"\"\n",
    "    Command-line interface for demo mode.\n",
    "    Usage examples\n",
    "    --------------\n",
    "    ▶ python your_script.py --demo --source webcam\n",
    "    ▶ python your_script.py --demo --source /path/to/video.mp4 --save --output result.mp4\n",
    "    \"\"\"\n",
    "    parser = argparse.ArgumentParser(description=\"YOLOv8 Live / Video Detection Demo\")\n",
    "    parser.add_argument(\"--demo\", action=\"store_true\",\n",
    "                        help=\"Run in demo mode (webcam or video detection)\")\n",
    "    parser.add_argument(\"--model\", type=str, default=\"yolov8_voc_trained.pt\",\n",
    "                        help=\"Path to the trained YOLOv8 model\")\n",
    "    parser.add_argument(\"--source\", type=str, default=\"webcam\",\n",
    "                        help='\"webcam\" for live camera or a path to a video file')\n",
    "    parser.add_argument(\"--save\", action=\"store_true\",\n",
    "                        help=\"Save the annotated output to a file\")\n",
    "    parser.add_argument(\"--output\", type=str, default=\"annotated_output.mp4\",\n",
    "                        help=\"Output video path when --save is used\")\n",
    "    return parser.parse_args()\n",
    "\n",
    "def run_demo(model_path: str, video_source=0, save_output=False, output_path=\"annotated_output.mp4\"):\n",
    "    \"\"\"Perform live detection on webcam or a video file.\"\"\"\n",
    "    print(f\"[DEMO] Loading model from: {model_path}\")\n",
    "    model = YOLO(model_path)\n",
    "\n",
    "    print(f\"[DEMO] Opening video source: {video_source}\")\n",
    "    cap = cv2.VideoCapture(video_source)\n",
    "    if not cap.isOpened():\n",
    "        raise RuntimeError(f\"Unable to open video source '{video_source}'\")\n",
    "\n",
    "    writer = None\n",
    "    if save_output:\n",
    "        fourcc = cv2.VideoWriter_fourcc(*\"mp4v\")\n",
    "        fps    = cap.get(cv2.CAP_PROP_FPS) or 30\n",
    "        width  = int(cap.get(cv2.CAP_PROP_FRAME_WIDTH))\n",
    "        height = int(cap.get(cv2.CAP_PROP_FRAME_HEIGHT))\n",
    "        writer = cv2.VideoWriter(output_path, fourcc, fps, (width, height))\n",
    "        print(f\"[DEMO] Saving annotated video to: {output_path}\")\n",
    "\n",
    "    print(\"[DEMO] Press 'q' to quit.\")\n",
    "    frame_counter = 0\n",
    "    start_time = time.time()\n",
    "\n",
    "    while True:\n",
    "        ret, frame = cap.read()\n",
    "        if not ret:\n",
    "            break\n",
    "        results = model.predict(frame, imgsz=640, conf=0.35, verbose=False)\n",
    "        annotated_frame = results[0].plot()  # draw boxes & labels\n",
    "        cv2.imshow(\"YOLOv8 Detection Demo\", annotated_frame)\n",
    "\n",
    "        if writer is not None:\n",
    "            writer.write(annotated_frame)\n",
    "\n",
    "        if cv2.waitKey(1) & 0xFF == ord(\"q\"):\n",
    "            break\n",
    "\n",
    "        frame_counter += 1\n",
    "    elapsed = time.time() - start_time\n",
    "    fps_actual = frame_counter / elapsed if elapsed > 0 else 0\n",
    "    print(f\"[DEMO] Processed {frame_counter} frames in {elapsed:.1f}s ({fps_actual:.2f} FPS)\")\n",
    "\n",
    "    cap.release()\n",
    "    if writer is not None:\n",
    "        writer.release()\n",
    "    cv2.destroyAllWindows()\n",
    "\n",
    "if __name__ == \"__main__\":\n",
    "    args = parse_demo_args()\n",
    "\n",
    "    if args.demo:\n",
    "        video_src = 0 if args.source.lower() == \"webcam\" else args.source\n",
    "        run_demo(args.model, video_src, args.save, args.output)\n",
    "    else:\n",
    "        from pathlib import Path\n",
    "        pass\n"
   ],
   "metadata": {
    "id": "Jx97xqPeymLg"
   },
   "execution_count": null,
   "outputs": []
  }
 ]
}
