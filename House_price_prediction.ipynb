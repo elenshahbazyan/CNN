{
  "nbformat": 4,
  "nbformat_minor": 0,
  "metadata": {
    "colab": {
      "provenance": [],
      "authorship_tag": "ABX9TyPZ0jHA8a6U2/9AcqxFpmZj",
      "include_colab_link": true
    },
    "kernelspec": {
      "name": "python3",
      "display_name": "Python 3"
    },
    "language_info": {
      "name": "python"
    }
  },
  "cells": [
    {
      "cell_type": "markdown",
      "metadata": {
        "id": "view-in-github",
        "colab_type": "text"
      },
      "source": [
        "<a href=\"https://colab.research.google.com/github/elenshahbazyan/CNN/blob/main/House_price_prediction.ipynb\" target=\"_parent\"><img src=\"https://colab.research.google.com/assets/colab-badge.svg\" alt=\"Open In Colab\"/></a>"
      ]
    },
    {
      "cell_type": "code",
      "execution_count": null,
      "metadata": {
        "colab": {
          "base_uri": "https://localhost:8080/",
          "height": 73
        },
        "id": "KYmWPbi_T5h3",
        "outputId": "e7f59bf1-9da4-4b6b-b7e1-6fbb42496ed7"
      },
      "outputs": [
        {
          "output_type": "display_data",
          "data": {
            "text/plain": [
              "<IPython.core.display.HTML object>"
            ],
            "text/html": [
              "\n",
              "     <input type=\"file\" id=\"files-f8353fd1-b140-46e2-8311-e4196b8bc04e\" name=\"files[]\" multiple disabled\n",
              "        style=\"border:none\" />\n",
              "     <output id=\"result-f8353fd1-b140-46e2-8311-e4196b8bc04e\">\n",
              "      Upload widget is only available when the cell has been executed in the\n",
              "      current browser session. Please rerun this cell to enable.\n",
              "      </output>\n",
              "      <script>// Copyright 2017 Google LLC\n",
              "//\n",
              "// Licensed under the Apache License, Version 2.0 (the \"License\");\n",
              "// you may not use this file except in compliance with the License.\n",
              "// You may obtain a copy of the License at\n",
              "//\n",
              "//      http://www.apache.org/licenses/LICENSE-2.0\n",
              "//\n",
              "// Unless required by applicable law or agreed to in writing, software\n",
              "// distributed under the License is distributed on an \"AS IS\" BASIS,\n",
              "// WITHOUT WARRANTIES OR CONDITIONS OF ANY KIND, either express or implied.\n",
              "// See the License for the specific language governing permissions and\n",
              "// limitations under the License.\n",
              "\n",
              "/**\n",
              " * @fileoverview Helpers for google.colab Python module.\n",
              " */\n",
              "(function(scope) {\n",
              "function span(text, styleAttributes = {}) {\n",
              "  const element = document.createElement('span');\n",
              "  element.textContent = text;\n",
              "  for (const key of Object.keys(styleAttributes)) {\n",
              "    element.style[key] = styleAttributes[key];\n",
              "  }\n",
              "  return element;\n",
              "}\n",
              "\n",
              "// Max number of bytes which will be uploaded at a time.\n",
              "const MAX_PAYLOAD_SIZE = 100 * 1024;\n",
              "\n",
              "function _uploadFiles(inputId, outputId) {\n",
              "  const steps = uploadFilesStep(inputId, outputId);\n",
              "  const outputElement = document.getElementById(outputId);\n",
              "  // Cache steps on the outputElement to make it available for the next call\n",
              "  // to uploadFilesContinue from Python.\n",
              "  outputElement.steps = steps;\n",
              "\n",
              "  return _uploadFilesContinue(outputId);\n",
              "}\n",
              "\n",
              "// This is roughly an async generator (not supported in the browser yet),\n",
              "// where there are multiple asynchronous steps and the Python side is going\n",
              "// to poll for completion of each step.\n",
              "// This uses a Promise to block the python side on completion of each step,\n",
              "// then passes the result of the previous step as the input to the next step.\n",
              "function _uploadFilesContinue(outputId) {\n",
              "  const outputElement = document.getElementById(outputId);\n",
              "  const steps = outputElement.steps;\n",
              "\n",
              "  const next = steps.next(outputElement.lastPromiseValue);\n",
              "  return Promise.resolve(next.value.promise).then((value) => {\n",
              "    // Cache the last promise value to make it available to the next\n",
              "    // step of the generator.\n",
              "    outputElement.lastPromiseValue = value;\n",
              "    return next.value.response;\n",
              "  });\n",
              "}\n",
              "\n",
              "/**\n",
              " * Generator function which is called between each async step of the upload\n",
              " * process.\n",
              " * @param {string} inputId Element ID of the input file picker element.\n",
              " * @param {string} outputId Element ID of the output display.\n",
              " * @return {!Iterable<!Object>} Iterable of next steps.\n",
              " */\n",
              "function* uploadFilesStep(inputId, outputId) {\n",
              "  const inputElement = document.getElementById(inputId);\n",
              "  inputElement.disabled = false;\n",
              "\n",
              "  const outputElement = document.getElementById(outputId);\n",
              "  outputElement.innerHTML = '';\n",
              "\n",
              "  const pickedPromise = new Promise((resolve) => {\n",
              "    inputElement.addEventListener('change', (e) => {\n",
              "      resolve(e.target.files);\n",
              "    });\n",
              "  });\n",
              "\n",
              "  const cancel = document.createElement('button');\n",
              "  inputElement.parentElement.appendChild(cancel);\n",
              "  cancel.textContent = 'Cancel upload';\n",
              "  const cancelPromise = new Promise((resolve) => {\n",
              "    cancel.onclick = () => {\n",
              "      resolve(null);\n",
              "    };\n",
              "  });\n",
              "\n",
              "  // Wait for the user to pick the files.\n",
              "  const files = yield {\n",
              "    promise: Promise.race([pickedPromise, cancelPromise]),\n",
              "    response: {\n",
              "      action: 'starting',\n",
              "    }\n",
              "  };\n",
              "\n",
              "  cancel.remove();\n",
              "\n",
              "  // Disable the input element since further picks are not allowed.\n",
              "  inputElement.disabled = true;\n",
              "\n",
              "  if (!files) {\n",
              "    return {\n",
              "      response: {\n",
              "        action: 'complete',\n",
              "      }\n",
              "    };\n",
              "  }\n",
              "\n",
              "  for (const file of files) {\n",
              "    const li = document.createElement('li');\n",
              "    li.append(span(file.name, {fontWeight: 'bold'}));\n",
              "    li.append(span(\n",
              "        `(${file.type || 'n/a'}) - ${file.size} bytes, ` +\n",
              "        `last modified: ${\n",
              "            file.lastModifiedDate ? file.lastModifiedDate.toLocaleDateString() :\n",
              "                                    'n/a'} - `));\n",
              "    const percent = span('0% done');\n",
              "    li.appendChild(percent);\n",
              "\n",
              "    outputElement.appendChild(li);\n",
              "\n",
              "    const fileDataPromise = new Promise((resolve) => {\n",
              "      const reader = new FileReader();\n",
              "      reader.onload = (e) => {\n",
              "        resolve(e.target.result);\n",
              "      };\n",
              "      reader.readAsArrayBuffer(file);\n",
              "    });\n",
              "    // Wait for the data to be ready.\n",
              "    let fileData = yield {\n",
              "      promise: fileDataPromise,\n",
              "      response: {\n",
              "        action: 'continue',\n",
              "      }\n",
              "    };\n",
              "\n",
              "    // Use a chunked sending to avoid message size limits. See b/62115660.\n",
              "    let position = 0;\n",
              "    do {\n",
              "      const length = Math.min(fileData.byteLength - position, MAX_PAYLOAD_SIZE);\n",
              "      const chunk = new Uint8Array(fileData, position, length);\n",
              "      position += length;\n",
              "\n",
              "      const base64 = btoa(String.fromCharCode.apply(null, chunk));\n",
              "      yield {\n",
              "        response: {\n",
              "          action: 'append',\n",
              "          file: file.name,\n",
              "          data: base64,\n",
              "        },\n",
              "      };\n",
              "\n",
              "      let percentDone = fileData.byteLength === 0 ?\n",
              "          100 :\n",
              "          Math.round((position / fileData.byteLength) * 100);\n",
              "      percent.textContent = `${percentDone}% done`;\n",
              "\n",
              "    } while (position < fileData.byteLength);\n",
              "  }\n",
              "\n",
              "  // All done.\n",
              "  yield {\n",
              "    response: {\n",
              "      action: 'complete',\n",
              "    }\n",
              "  };\n",
              "}\n",
              "\n",
              "scope.google = scope.google || {};\n",
              "scope.google.colab = scope.google.colab || {};\n",
              "scope.google.colab._files = {\n",
              "  _uploadFiles,\n",
              "  _uploadFilesContinue,\n",
              "};\n",
              "})(self);\n",
              "</script> "
            ]
          },
          "metadata": {}
        },
        {
          "output_type": "stream",
          "name": "stdout",
          "text": [
            "Saving Housing.csv to Housing.csv\n"
          ]
        }
      ],
      "source": [
        "from google.colab import files\n",
        "uploaded = files.upload()"
      ]
    },
    {
      "cell_type": "code",
      "source": [
        "import torch\n",
        "import torch.nn as nn\n",
        "import torch.optim as optim\n",
        "from sklearn.model_selection import train_test_split\n",
        "from sklearn.preprocessing import StandardScaler\n",
        "from sklearn.metrics import r2_score\n",
        "import pandas as pd\n",
        "import numpy as np\n",
        "import matplotlib.pyplot as plt"
      ],
      "metadata": {
        "id": "U1eMs7YnU-IN"
      },
      "execution_count": null,
      "outputs": []
    },
    {
      "cell_type": "code",
      "source": [
        "# Load the dataset\n",
        "df = pd.read_csv('Housing.csv')\n",
        "\n",
        "# Fill missing values\n",
        "numerical_cols = df.select_dtypes(include=['float64', 'int64']).columns\n",
        "df[numerical_cols] = df[numerical_cols].fillna(df[numerical_cols].median())\n",
        "\n",
        "categorical_cols = df.select_dtypes(include=['object']).columns\n",
        "df[categorical_cols] = df[categorical_cols].fillna(df[categorical_cols].mode().iloc[0])\n",
        "\n",
        "# One-hot encoding for categorical features\n",
        "df = pd.get_dummies(df, drop_first=True)\n",
        "\n",
        "# Separate features (X) and target (y)\n",
        "X = df.drop(columns='price')  # Assuming 'price' is the target variable\n",
        "y = df['price']\n",
        "\n",
        "# Scale the features\n",
        "scaler = StandardScaler()\n",
        "X_scaled = scaler.fit_transform(X)\n",
        "\n",
        "# Convert to PyTorch tensors\n",
        "X_tensor = torch.tensor(X_scaled, dtype=torch.float32)\n",
        "y_tensor = torch.tensor(y.values, dtype=torch.float32).view(-1, 1)\n",
        "\n",
        "# Split data into train, validation, and test sets (70-15-15 split)\n",
        "X_train, X_temp, y_train, y_temp = train_test_split(X_tensor, y_tensor, test_size=0.3, random_state=42)\n",
        "X_val, X_test, y_val, y_test = train_test_split(X_temp, y_temp, test_size=0.5, random_state=42)"
      ],
      "metadata": {
        "id": "puommxZ3VPLS"
      },
      "execution_count": null,
      "outputs": []
    },
    {
      "cell_type": "code",
      "source": [
        "# Define the Neural Network architecture\n",
        "class HousePriceNN(nn.Module):\n",
        "    def __init__(self, input_size, hidden1, hidden2):\n",
        "        super(HousePriceNN, self).__init__()\n",
        "        self.fc1 = nn.Linear(input_size, hidden1)\n",
        "        self.fc2 = nn.Linear(hidden1, hidden2)\n",
        "        self.fc3 = nn.Linear(hidden2, 1)\n",
        "        self.relu = nn.ReLU()\n",
        "\n",
        "    def forward(self, x):\n",
        "        x = self.relu(self.fc1(x))\n",
        "        x = self.relu(self.fc2(x))\n",
        "        x = self.fc3(x)\n",
        "        return x\n",
        "\n",
        "# Hyperparameter grid\n",
        "learning_rates = [0.001, 0.01, 0.1]\n",
        "hidden_layers = [128, 256, 512]\n",
        "\n",
        "# Grid search for hyperparameters\n",
        "best_model = None\n",
        "best_params = None\n",
        "best_r2 = -np.inf\n",
        "best_rmse = float('inf')"
      ],
      "metadata": {
        "id": "tazRihycVb03"
      },
      "execution_count": null,
      "outputs": []
    },
    {
      "cell_type": "code",
      "source": [
        "# Perform grid search over hyperparameters\n",
        "for lr in learning_rates:\n",
        "    for hidden1 in hidden_layers:\n",
        "        for hidden2 in hidden_layers:\n",
        "            print(f\"Training with lr={lr}, hidden1={hidden1}, hidden2={hidden2}\")\n",
        "\n",
        "            # Initialize the model, loss function, and optimizer\n",
        "            input_size = X_train.shape[1]\n",
        "            model = HousePriceNN(input_size, hidden1, hidden2)\n",
        "            criterion = nn.MSELoss()  # Mean Squared Error for regression\n",
        "            optimizer = optim.Adam(model.parameters(), lr=lr)\n",
        "\n",
        "            # Store losses for plotting\n",
        "            epoch_train_losses = []\n",
        "            epoch_val_losses = []\n",
        "\n",
        "            # Train the model\n",
        "            epochs = 500\n",
        "            for epoch in range(epochs):\n",
        "                model.train()\n",
        "                optimizer.zero_grad()\n",
        "\n",
        "                # Forward pass\n",
        "                y_pred_train = model(X_train)\n",
        "                train_loss = criterion(y_pred_train, y_train)\n",
        "\n",
        "                # Backward pass\n",
        "                train_loss.backward()\n",
        "                optimizer.step()\n",
        "\n",
        "                # Store training loss\n",
        "                epoch_train_losses.append(train_loss.item())\n",
        "\n",
        "                # Validation loss\n",
        "                model.eval()\n",
        "                with torch.no_grad():\n",
        "                    y_pred_val = model(X_val)\n",
        "                    val_loss = criterion(y_pred_val, y_val)\n",
        "\n",
        "                # Store validation loss\n",
        "                epoch_val_losses.append(val_loss.item())\n",
        "\n",
        "            # Evaluate the model\n",
        "            model.eval()\n",
        "            with torch.no_grad():\n",
        "                y_pred_train = model(X_train).numpy()\n",
        "                y_pred_val = model(X_val).numpy()\n",
        "                y_pred_test = model(X_test).numpy()\n",
        "\n",
        "                y_train_np = y_train.numpy()\n",
        "                y_val_np = y_val.numpy()\n",
        "                y_test_np = y_test.numpy()\n",
        "\n",
        "                rmse = np.sqrt(criterion(torch.tensor(y_pred_val), y_val).item())\n",
        "\n",
        "                r2_train = r2_score(y_train_np, y_pred_train)\n",
        "                r2_val = r2_score(y_val_np, y_pred_val)\n",
        "                r2_test = r2_score(y_test_np, y_pred_test)\n",
        "\n",
        "            # Track the best model based on validation R²\n",
        "            if r2_val > best_r2:\n",
        "                best_r2 = r2_val\n",
        "                best_rmse = rmse\n",
        "                best_model = model\n",
        "                best_params = {'lr': lr, 'hidden1': hidden1, 'hidden2': hidden2}\n",
        "                best_train_loss = epoch_train_losses[-1]\n",
        "                best_val_loss = epoch_val_losses[-1]\n",
        "                best_r2_train = r2_train\n",
        "                best_r2_val = r2_val\n",
        "                best_r2_test = r2_test"
      ],
      "metadata": {
        "colab": {
          "base_uri": "https://localhost:8080/"
        },
        "id": "bHHqWcshT6yh",
        "outputId": "7309eec9-4d40-4147-8af8-b6372ef9c6bd"
      },
      "execution_count": null,
      "outputs": [
        {
          "output_type": "stream",
          "name": "stdout",
          "text": [
            "Training with lr=0.001, hidden1=128, hidden2=128\n",
            "Training with lr=0.001, hidden1=128, hidden2=256\n",
            "Training with lr=0.001, hidden1=128, hidden2=512\n",
            "Training with lr=0.001, hidden1=256, hidden2=128\n",
            "Training with lr=0.001, hidden1=256, hidden2=256\n",
            "Training with lr=0.001, hidden1=256, hidden2=512\n",
            "Training with lr=0.001, hidden1=512, hidden2=128\n",
            "Training with lr=0.001, hidden1=512, hidden2=256\n",
            "Training with lr=0.001, hidden1=512, hidden2=512\n",
            "Training with lr=0.01, hidden1=128, hidden2=128\n",
            "Training with lr=0.01, hidden1=128, hidden2=256\n",
            "Training with lr=0.01, hidden1=128, hidden2=512\n",
            "Training with lr=0.01, hidden1=256, hidden2=128\n",
            "Training with lr=0.01, hidden1=256, hidden2=256\n",
            "Training with lr=0.01, hidden1=256, hidden2=512\n",
            "Training with lr=0.01, hidden1=512, hidden2=128\n",
            "Training with lr=0.01, hidden1=512, hidden2=256\n",
            "Training with lr=0.01, hidden1=512, hidden2=512\n",
            "Training with lr=0.1, hidden1=128, hidden2=128\n",
            "Training with lr=0.1, hidden1=128, hidden2=256\n",
            "Training with lr=0.1, hidden1=128, hidden2=512\n",
            "Training with lr=0.1, hidden1=256, hidden2=128\n",
            "Training with lr=0.1, hidden1=256, hidden2=256\n",
            "Training with lr=0.1, hidden1=256, hidden2=512\n",
            "Training with lr=0.1, hidden1=512, hidden2=128\n",
            "Training with lr=0.1, hidden1=512, hidden2=256\n",
            "Training with lr=0.1, hidden1=512, hidden2=512\n"
          ]
        }
      ]
    },
    {
      "cell_type": "code",
      "source": [
        "# Plot the training and validation losses for the best model\n",
        "plt.figure(figsize=(10, 6))\n",
        "plt.plot(epoch_train_losses, label='Train Loss', color='blue')\n",
        "plt.plot(epoch_val_losses, label='Validation Loss', color='orange')\n",
        "plt.xlabel('Epochs')\n",
        "plt.ylabel('Loss')\n",
        "plt.legend()\n",
        "plt.title(f'Training and Validation Losses (lr={best_params[\"lr\"]}, hidden1={best_params[\"hidden1\"]}, hidden2={best_params[\"hidden2\"]})')\n",
        "plt.show()"
      ],
      "metadata": {
        "colab": {
          "base_uri": "https://localhost:8080/",
          "height": 564
        },
        "id": "i0dhNRW-VD3H",
        "outputId": "6af772c7-6fdb-4a74-8150-9ffb44213349"
      },
      "execution_count": null,
      "outputs": [
        {
          "output_type": "display_data",
          "data": {
            "text/plain": [
              "<Figure size 1000x600 with 1 Axes>"
            ],
            "image/png": "[encoded data removed]"
          },
          "metadata": {}
        }
      ]
    },
    {
      "cell_type": "code",
      "source": [
        "# Print best hyperparameters and evaluation metrics\n",
        "print(f\"Best Hyperparameters: {best_params}\")\n",
        "print(f\"Train R²: {best_r2_train:.4f}\")\n",
        "print(f\"Validation R²: {best_r2_val:.4f}\")\n",
        "print(f\"Test R²: {best_r2_test:.4f}\")\n",
        "print(f\"Best RMSE: {best_rmse:.4f}\")\n",
        "print(f\"Final Training Loss: {best_train_loss:.4f}\")\n",
        "print(f\"Final Validation Loss: {best_val_loss:.4f}\")"
      ],
      "metadata": {
        "colab": {
          "base_uri": "https://localhost:8080/"
        },
        "id": "Kc-sLpAgUxuf",
        "outputId": "fac7cecc-41ac-42f2-86ae-84a1778b8b76"
      },
      "execution_count": null,
      "outputs": [
        {
          "output_type": "stream",
          "name": "stdout",
          "text": [
            "Best Hyperparameters: {'lr': 0.1, 'hidden1': 128, 'hidden2': 256}\n",
            "Train R²: 0.8219\n",
            "Validation R²: 0.5855\n",
            "Test R²: 0.6602\n",
            "Best RMSE: 1338070.2469\n",
            "Final Training Loss: 559891480576.0000\n",
            "Final Validation Loss: 1790431985664.0000\n"
          ]
        }
      ]
    },
    {
      "cell_type": "code",
      "source": [
        "# Save the best model\n",
        "torch.save(best_model.state_dict(), 'best_house_price_model.pth')\n"
      ],
      "metadata": {
        "id": "4OPl3iLmWKtg"
      },
      "execution_count": null,
      "outputs": []
    },
    {
      "cell_type": "code",
      "source": [
        "# Load the model\n",
        "model = HousePriceNN(input_size, hidden1, hidden2)  # Define the model architecture first\n",
        "model.load_state_dict(torch.load('best_house_price_model.pth'))\n",
        "model.eval()  # Set the model to evaluation mode\n"
      ],
      "metadata": {
        "id": "QvrM-jaiC2if"
      },
      "execution_count": null,
      "outputs": []
    }
  ]
}